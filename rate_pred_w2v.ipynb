{
 "cells": [
  {
   "cell_type": "code",
   "execution_count": null,
   "metadata": {},
   "outputs": [],
   "source": [
    "#speaches downloaded from https://www.bis.org/cbspeeches/download.htm"
   ]
  },
  {
   "cell_type": "code",
   "execution_count": 1,
   "metadata": {},
   "outputs": [],
   "source": [
    "import pandas as pd\n",
    "import numpy as np\n",
    "from gensim.models import Word2Vec\n",
    "from keras.preprocessing.text import Tokenizer\n",
    "from sklearn.model_selection import train_test_split, GridSearchCV\n",
    "from pandas.api.types import is_string_dtype, CategoricalDtype\n",
    "#from keras.preprocessing.sequence import pad_sequences\n",
    "#authors note, different version of Keras put pad_sequences in different places, if one doesn't work, please try the other\n",
    "from keras.models import Sequential\n",
    "from keras.layers import Dense, LSTM, Embedding, Dropout\n",
    "from keras.utils.data_utils import pad_sequences\n",
    "from scikeras.wrappers import KerasRegressor\n",
    "from keras.callbacks import EarlyStopping\n",
    "from keras.optimizers import Adam"
   ]
  },
  {
   "cell_type": "code",
   "execution_count": 2,
   "metadata": {},
   "outputs": [
    {
     "name": "stderr",
     "output_type": "stream",
     "text": [
      "[nltk_data] Downloading package stopwords to\n",
      "[nltk_data]     C:\\Users\\USER\\AppData\\Roaming\\nltk_data...\n",
      "[nltk_data]   Package stopwords is already up-to-date!\n"
     ]
    }
   ],
   "source": [
    "import nltk\n",
    "nltk.download('stopwords')\n",
    "from nltk.corpus import stopwords"
   ]
  },
  {
   "cell_type": "code",
   "execution_count": 3,
   "metadata": {},
   "outputs": [
    {
     "data": {
      "text/plain": [
       "usa            0\n",
       "canada         0\n",
       "europe         2\n",
       "uk             0\n",
       "australia      0\n",
       "brazil         1\n",
       "india          1\n",
       "switzerland    2\n",
       "japan          2\n",
       "south korea    0\n",
       "Name: labels, dtype: int32"
      ]
     },
     "execution_count": 3,
     "metadata": {},
     "output_type": "execute_result"
    }
   ],
   "source": [
    "regimes = pd.read_parquet('quarterly_data/df_2020Q1.parquet')\n",
    "regimes['labels']"
   ]
  },
  {
   "cell_type": "code",
   "execution_count": 4,
   "metadata": {},
   "outputs": [],
   "source": [
    "countries = regimes[regimes['labels'] == 0].index.tolist()"
   ]
  },
  {
   "cell_type": "code",
   "execution_count": 5,
   "metadata": {},
   "outputs": [],
   "source": [
    "import re\n",
    "\n",
    "dfs = []\n",
    "\n",
    "# Iterate over the countries\n",
    "for country in countries:\n",
    "    # Read the Parquet file into a DataFrame\n",
    "    if country == 'uk':\n",
    "        country = 'england'\n",
    "    if country == 'south korea':\n",
    "        country = 'korea'\n",
    "    df = pd.read_parquet(f\"fed_statements/{country}.parquet\")\n",
    "    df = df.map(lambda x: re.sub(r'[^a-zA-Z0-9\\s]|[\\n]', '', str(x)) if isinstance(x, str) else x)\n",
    "    \n",
    "    # Add the DataFrame to the list\n",
    "    dfs.append(df)\n",
    "\n",
    "# Concatenate all the DataFrames along the row axis\n",
    "data = pd.concat(dfs, axis=0)"
   ]
  },
  {
   "cell_type": "code",
   "execution_count": 6,
   "metadata": {},
   "outputs": [],
   "source": [
    "data = data.sort_index(ascending=True)"
   ]
  },
  {
   "cell_type": "code",
   "execution_count": 7,
   "metadata": {},
   "outputs": [],
   "source": [
    "from datetime import datetime, timedelta, time\n",
    "\n",
    "# Create a copy of your DataFrame to avoid modifying the original data\n",
    "data_adjusted = data.copy()\n",
    "\n",
    "# Group by date and check for multiple entries per day\n",
    "counts = data_adjusted.groupby(data_adjusted.index.normalize()).count()\n",
    "\n",
    "# Get dates with more than one entry\n",
    "duplicate_dates = counts[counts > 1].index\n",
    "\n",
    "# Loop over duplicate dates and adjust the timestamps\n",
    "for date in duplicate_dates:\n",
    "    # Get the entries for this date\n",
    "    entries = data_adjusted[data_adjusted.index.normalize() == date]\n",
    "    \n",
    "    # Generate new timestamps by adding a day for each subsequent entry\n",
    "    new_timestamps = [pd.Timestamp(date + timedelta(days=i)) for i in range(len(entries))]\n",
    "    \n",
    "    # Update the index for the entries of this date\n",
    "    data_adjusted.loc[data_adjusted.index.normalize() == date, 'index'] = new_timestamps\n",
    "\n",
    "# Set the new index\n",
    "data_adjusted.set_index('index', inplace=True)"
   ]
  },
  {
   "cell_type": "code",
   "execution_count": 8,
   "metadata": {},
   "outputs": [],
   "source": [
    "target = pd.read_parquet(\"data/bonds.parquet\")"
   ]
  },
  {
   "cell_type": "code",
   "execution_count": 9,
   "metadata": {},
   "outputs": [],
   "source": [
    "target_resampled = target['usa'].diff().resample('D').interpolate(method='polynomial', order=2)\n",
    "# Shift the DataFrame so we are predicting out in time\n",
    "target_shifted = target_resampled.shift(30)"
   ]
  },
  {
   "cell_type": "code",
   "execution_count": 10,
   "metadata": {},
   "outputs": [
    {
     "data": {
      "text/plain": [
       "(97, 1)"
      ]
     },
     "execution_count": 10,
     "metadata": {},
     "output_type": "execute_result"
    }
   ],
   "source": [
    "data_adjusted = data_adjusted.loc[~data_adjusted.index.duplicated(keep='first')]\n",
    "data_adjusted.shape"
   ]
  },
  {
   "cell_type": "code",
   "execution_count": 11,
   "metadata": {},
   "outputs": [
    {
     "name": "stdout",
     "output_type": "stream",
     "text": [
      "0\n",
      "0\n"
     ]
    }
   ],
   "source": [
    "print(target_shifted.index.duplicated().sum())\n",
    "print(data_adjusted.index.duplicated().sum())"
   ]
  },
  {
   "cell_type": "code",
   "execution_count": 12,
   "metadata": {},
   "outputs": [],
   "source": [
    "# Get the common indices\n",
    "common_indices = target_shifted.index.intersection(data_adjusted.index)\n",
    "\n",
    "# Select the data from target_shifted and data_adjusted where the index is in common_indices\n",
    "target_shifted = target_shifted.loc[common_indices]\n",
    "data_adjusted = data_adjusted.loc[common_indices]"
   ]
  },
  {
   "cell_type": "code",
   "execution_count": 13,
   "metadata": {},
   "outputs": [],
   "source": [
    "data_adjusted['content'] = data_adjusted['content'].apply(lambda x: x.split())\n",
    "\n",
    "# Convert the column of lists into a single list of sentences\n",
    "sentences = data_adjusted['content'].tolist()\n"
   ]
  },
  {
   "cell_type": "markdown",
   "metadata": {},
   "source": [
    "train word vectors"
   ]
  },
  {
   "cell_type": "code",
   "execution_count": 14,
   "metadata": {},
   "outputs": [
    {
     "data": {
      "text/plain": [
       "(2414530, 3311850)"
      ]
     },
     "execution_count": 14,
     "metadata": {},
     "output_type": "execute_result"
    }
   ],
   "source": [
    "# Word2Vec\n",
    "word2vec = Word2Vec(sentences, vector_size=120, window=5, min_count=1, workers=4)\n",
    "word2vec.train(sentences, total_examples=len(sentences), epochs=10)"
   ]
  },
  {
   "cell_type": "markdown",
   "metadata": {},
   "source": [
    "Create target column"
   ]
  },
  {
   "cell_type": "code",
   "execution_count": 15,
   "metadata": {},
   "outputs": [
    {
     "name": "stdout",
     "output_type": "stream",
     "text": [
      "(93, 23489)\n",
      "(93,)\n"
     ]
    }
   ],
   "source": [
    "# Word2Vec => tokenize my words to prep for LSTM\n",
    "tokenizer = Tokenizer()\n",
    "tokenizer.fit_on_texts(sentences)\n",
    "sequences = tokenizer.texts_to_sequences(sentences)\n",
    "data = pad_sequences(sequences)\n",
    "\n",
    "# Prepare target variable (freedom scores)\n",
    "# ... (your code here)\n",
    "print(data.shape)\n",
    "print(target_shifted.shape)"
   ]
  },
  {
   "cell_type": "code",
   "execution_count": 16,
   "metadata": {},
   "outputs": [],
   "source": [
    "def expand_features(full_array, window=5):\n",
    "\n",
    "    n_features = full_array.shape[1]\n",
    "    \n",
    "\n",
    "    expanded_features = np.zeros((full_array.shape[0], n_features * window))\n",
    "    for feature_idx in range(n_features):\n",
    "        # For each time step in the window\n",
    "        for lag in range(window):\n",
    "            # Shift the data\n",
    "            shifted_data = np.roll(full_array[:, feature_idx], lag)\n",
    "            # Set the first 'lag' values to zero\n",
    "            shifted_data[:lag] = 0\n",
    "            # Store it in the expanded features\n",
    "            expanded_features[:, feature_idx*window + lag] = shifted_data\n",
    "            \n",
    "    return expanded_features"
   ]
  },
  {
   "cell_type": "code",
   "execution_count": 17,
   "metadata": {},
   "outputs": [],
   "source": [
    "expanded_data = expand_features(data, 5)"
   ]
  },
  {
   "cell_type": "code",
   "execution_count": 18,
   "metadata": {},
   "outputs": [],
   "source": [
    "X_train, X_test, y_train, y_test = train_test_split(expanded_data, target_shifted, test_size=0.2, random_state=42, shuffle=False)"
   ]
  },
  {
   "cell_type": "markdown",
   "metadata": {},
   "source": [
    "Find word similarities"
   ]
  },
  {
   "cell_type": "code",
   "execution_count": 19,
   "metadata": {},
   "outputs": [],
   "source": [
    "word_vectors = word2vec.wv.vectors\n",
    "# Create a word-to-index dictionary\n",
    "word_to_index = {word: i for i, word in enumerate(word2vec.wv.index_to_key)}\n",
    "\n",
    "# Create an embedding matrix\n",
    "embedding_matrix = np.zeros((len(word_to_index) + 1, word2vec.vector_size))\n",
    "for word, i in word_to_index.items():\n",
    "    embedding_matrix[i] = word2vec.wv[word]\n",
    "\n"
   ]
  },
  {
   "cell_type": "code",
   "execution_count": 20,
   "metadata": {},
   "outputs": [],
   "source": [
    "from tensorflow.keras.layers import Bidirectional\n",
    "# Define LSTM model\n",
    "model = Sequential()\n",
    "model.add(Embedding(input_dim=len(word_to_index) + 1, output_dim=word2vec.vector_size, weights=[embedding_matrix]))\n",
    "model.add(Bidirectional(LSTM(units=64, return_sequences=True, activation='tanh')))  # More units, return sequences for stacking\n",
    "model.add(Dropout(.2))  # Dropout for regularization\n",
    "model.add(Bidirectional(LSTM(units=32, return_sequences=True, activation='tanh')))  # More units, return sequences for stacking\n",
    "model.add(Dropout(.2))  # Dropout for regularization\n",
    "model.add(Dense(1, activation='linear'))\n",
    "# Compile the model with gradient clipping\n",
    "opt = Adam(clipvalue=0.5)\n",
    "model.compile(optimizer=opt, loss='mean_squared_error')"
   ]
  },
  {
   "cell_type": "code",
   "execution_count": 21,
   "metadata": {},
   "outputs": [
    {
     "name": "stdout",
     "output_type": "stream",
     "text": [
      "Epoch 1/5\n"
     ]
    }
   ],
   "source": [
    "early_stopping = EarlyStopping(monitor='val_loss', patience=3)\n",
    "\n",
    "history = model.fit(expanded_data, target_shifted, epochs=5, validation_split=0.2, batch_size=128, verbose=1)"
   ]
  },
  {
   "cell_type": "code",
   "execution_count": null,
   "metadata": {},
   "outputs": [],
   "source": [
    "import matplotlib.pyplot as plt\n",
    "preds = model.predict(X_test)\n",
    "\n",
    "# Create a range of numbers for your X axis\n",
    "x_axis = range(len(preds))\n",
    "#x_axis = X_test.index\n",
    "# Plot the predictions along with the true values\n",
    "plt.figure(figsize=(14, 5))\n",
    "plt.plot(x_axis, preds, 'r', label='Predicted Values')\n",
    "plt.plot(x_axis, y_test, 'b', label='Actual Values')\n",
    "plt.title('predictions for differenced 10 yr bonds one month from previous fed meeting ')\n",
    "plt.legend()\n",
    "plt.show()"
   ]
  },
  {
   "cell_type": "code",
   "execution_count": null,
   "metadata": {},
   "outputs": [
    {
     "data": {
      "image/png": "[encoded data removed]",
      "text/plain": [
       "<Figure size 1200x800 with 1 Axes>"
      ]
     },
     "metadata": {},
     "output_type": "display_data"
    }
   ],
   "source": [
    "# Visualize the loss\n",
    "train_loss = history.history['loss']\n",
    "test_loss = history.history['val_loss']\n",
    "\n",
    "plt.figure(figsize=(12, 8))\n",
    "plt.plot(train_loss, label='Training loss', color='navy')\n",
    "plt.plot(test_loss, label='Testing loss', color='skyblue')\n",
    "plt.legend();"
   ]
  },
  {
   "cell_type": "code",
   "execution_count": null,
   "metadata": {},
   "outputs": [],
   "source": [
    "# Get the embeddings from the embedding layer\n",
    "embeddings = model.layers[0].get_weights()[0]\n",
    "\n",
    "# Create a dictionary to map indices to words\n",
    "word_to_index = tokenizer.word_index\n",
    "index_to_word = {v: k for k, v in word_to_index.items()}\n",
    "\n",
    "# Now you can get the embedding of a word like this:\n",
    "word = \"example\"\n",
    "word_embedding = embeddings[word_to_index[word]]"
   ]
  },
  {
   "cell_type": "code",
   "execution_count": null,
   "metadata": {},
   "outputs": [
    {
     "data": {
      "text/plain": [
       "array([-0.02270818,  0.04638885, -0.00918608,  0.01880567,  0.02911003,\n",
       "        0.00385864,  0.04770538, -0.01647489,  0.03811292, -0.04402161,\n",
       "        0.00353162, -0.02625338, -0.04556441, -0.02418173,  0.03292876,\n",
       "       -0.01646582,  0.02826924, -0.02207358, -0.04334329, -0.01394787,\n",
       "        0.00198222, -0.01082713,  0.03528147,  0.02123004, -0.02284766,\n",
       "        0.02744615,  0.04507652,  0.02539293, -0.00047426, -0.00055699,\n",
       "       -0.04064018, -0.03228501, -0.0488784 ,  0.02343431, -0.00450666,\n",
       "        0.01546543,  0.02649575, -0.03827449,  0.01888963,  0.0263534 ,\n",
       "        0.02175152,  0.01311486,  0.03050259,  0.01900692,  0.0045494 ,\n",
       "        0.02324464,  0.03395399,  0.01961519, -0.02793471,  0.00659522,\n",
       "        0.04125473, -0.04515826,  0.01943357, -0.01864521, -0.02914256,\n",
       "       -0.01288458,  0.03055224,  0.03107135,  0.00040753, -0.01992688,\n",
       "        0.02807276,  0.0238966 , -0.03495276, -0.01783298,  0.00265012,\n",
       "        0.0165749 ,  0.00904882, -0.03521918,  0.01849625, -0.02755862,\n",
       "       -0.00964205, -0.01227199, -0.01033333, -0.03023374,  0.03503808,\n",
       "        0.02693168, -0.042841  ,  0.03575525, -0.01708172,  0.02377913,\n",
       "       -0.00880681,  0.04911282,  0.00670988, -0.0149495 , -0.03474645,\n",
       "       -0.0119302 ,  0.0043167 , -0.04097176, -0.01118494,  0.04292956,\n",
       "        0.02054105, -0.03626322, -0.03713433, -0.01326987, -0.04047399,\n",
       "        0.01868999,  0.00681453, -0.03718278,  0.02361089, -0.00947007],\n",
       "      dtype=float32)"
      ]
     },
     "execution_count": 88,
     "metadata": {},
     "output_type": "execute_result"
    }
   ],
   "source": [
    "word_embedding"
   ]
  }
 ],
 "metadata": {
  "kernelspec": {
   "display_name": "Python 3",
   "language": "python",
   "name": "python3"
  },
  "language_info": {
   "codemirror_mode": {
    "name": "ipython",
    "version": 3
   },
   "file_extension": ".py",
   "mimetype": "text/x-python",
   "name": "python",
   "nbconvert_exporter": "python",
   "pygments_lexer": "ipython3",
   "version": "3.10.11"
  }
 },
 "nbformat": 4,
 "nbformat_minor": 2
}
