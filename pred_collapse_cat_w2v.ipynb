{
 "cells": [
  {
   "cell_type": "code",
   "execution_count": 2,
   "metadata": {},
   "outputs": [],
   "source": [
    "import pandas as pd\n",
    "import numpy as np\n",
    "from gensim.models import Word2Vec\n",
    "from keras.preprocessing.text import Tokenizer\n",
    "from sklearn.model_selection import train_test_split, GridSearchCV\n",
    "from pandas.api.types import is_string_dtype, CategoricalDtype\n",
    "import matplotlib.pyplot as plt\n",
    "import seaborn as sns\n",
    "#from keras.preprocessing.sequence import pad_sequences\n",
    "#authors note, different version of Keras put pad_sequences in different places, if one doesn't work, please try the other\n",
    "from keras.models import Sequential\n",
    "from keras.layers import Dense, LSTM, Embedding, Dropout\n",
    "from keras.utils.data_utils import pad_sequences\n",
    "from scikeras.wrappers import KerasRegressor\n",
    "from keras.callbacks import EarlyStopping\n",
    "from keras.optimizers import Adam\n",
    "from sklearn.metrics import confusion_matrix\n"
   ]
  },
  {
   "cell_type": "markdown",
   "metadata": {},
   "source": [
    "First step is to load economic regimes found through unsupervised training."
   ]
  },
  {
   "cell_type": "code",
   "execution_count": 21,
   "metadata": {},
   "outputs": [
    {
     "data": {
      "text/plain": [
       "usa            0\n",
       "canada         2\n",
       "europe         0\n",
       "uk             0\n",
       "australia      0\n",
       "brazil         1\n",
       "india          1\n",
       "switzerland    0\n",
       "japan          0\n",
       "south korea    0\n",
       "Name: labels, dtype: int32"
      ]
     },
     "execution_count": 21,
     "metadata": {},
     "output_type": "execute_result"
    }
   ],
   "source": [
    "regimes = pd.read_parquet('quarterly_data/df_2020Q1.parquet')\n",
    "regimes['labels']"
   ]
  },
  {
   "cell_type": "code",
   "execution_count": 28,
   "metadata": {},
   "outputs": [],
   "source": [
    "countries = regimes[regimes['labels'] == 0].index.tolist()"
   ]
  },
  {
   "cell_type": "code",
   "execution_count": 34,
   "metadata": {},
   "outputs": [],
   "source": [
    "dfs = []\n",
    "\n",
    "# Iterate over the countries\n",
    "for country in countries:\n",
    "    # Read the Parquet file into a DataFrame\n",
    "    if country == 'uk':\n",
    "        country = 'england'\n",
    "    if country == 'south korea':\n",
    "        country = 'korea'\n",
    "    df = pd.read_parquet(f\"fed_statements/{country}.parquet\")\n",
    "    \n",
    "    # Add the DataFrame to the list\n",
    "    dfs.append(df)\n",
    "\n",
    "# Concatenate all the DataFrames along the row axis\n",
    "data = pd.concat(dfs, axis=0)"
   ]
  },
  {
   "cell_type": "code",
   "execution_count": 35,
   "metadata": {},
   "outputs": [
    {
     "data": {
      "text/plain": [
       "[Timestamp('2019-11-13 00:00:00'),\n",
       " Timestamp('2020-02-11 00:00:00'),\n",
       " Timestamp('2020-05-13 00:00:00'),\n",
       " Timestamp('2020-06-16 00:00:00'),\n",
       " Timestamp('2020-08-27 00:00:00'),\n",
       " Timestamp('2020-10-07 00:00:00'),\n",
       " Timestamp('2021-02-23 00:00:00'),\n",
       " Timestamp('2021-06-22 00:00:00'),\n",
       " Timestamp('2021-07-14 00:00:00'),\n",
       " Timestamp('2021-09-02 00:00:00'),\n",
       " Timestamp('2021-10-12 00:00:00'),\n",
       " Timestamp('2021-11-28 00:00:00'),\n",
       " Timestamp('2021-12-02 00:00:00'),\n",
       " Timestamp('2022-03-02 00:00:00'),\n",
       " Timestamp('2022-03-22 00:00:00'),\n",
       " Timestamp('2022-06-01 00:00:00'),\n",
       " Timestamp('2022-06-20 00:00:00'),\n",
       " Timestamp('2022-06-23 00:00:00'),\n",
       " Timestamp('2022-08-26 00:00:00'),\n",
       " Timestamp('2022-09-30 00:00:00'),\n",
       " Timestamp('2022-12-01 00:00:00'),\n",
       " Timestamp('2023-01-11 00:00:00'),\n",
       " Timestamp('2023-03-08 00:00:00'),\n",
       " Timestamp('2023-06-22 00:00:00'),\n",
       " Timestamp('2023-07-03 00:00:00'),\n",
       " Timestamp('2023-08-30 00:00:00'),\n",
       " Timestamp('2023-10-11 00:00:00'),\n",
       " Timestamp('2023-10-20 00:00:00'),\n",
       " Timestamp('2023-10-26 00:00:00'),\n",
       " Timestamp('2023-10-27 00:00:00'),\n",
       " Timestamp('2023-11-07 00:00:00'),\n",
       " Timestamp('2023-11-13 00:00:00'),\n",
       " Timestamp('2023-11-15 00:00:00'),\n",
       " Timestamp('2023-11-20 00:00:00'),\n",
       " Timestamp('2023-11-21 00:00:00'),\n",
       " Timestamp('2024-03-06 00:00:00'),\n",
       " Timestamp('2020-03-12 00:00:00'),\n",
       " Timestamp('2020-04-30 00:00:00'),\n",
       " Timestamp('2020-05-07 00:00:00'),\n",
       " Timestamp('2020-05-08 00:00:00'),\n",
       " Timestamp('2020-05-25 00:00:00'),\n",
       " Timestamp('2020-06-04 00:00:00'),\n",
       " Timestamp('2020-06-09 00:00:00'),\n",
       " Timestamp('2020-06-11 00:00:00'),\n",
       " Timestamp('2020-06-15 00:00:00'),\n",
       " Timestamp('2020-07-17 00:00:00'),\n",
       " Timestamp('2020-09-10 00:00:00'),\n",
       " Timestamp('2020-09-14 00:00:00'),\n",
       " Timestamp('2020-09-21 00:00:00'),\n",
       " Timestamp('2020-09-30 00:00:00'),\n",
       " Timestamp('2020-10-19 00:00:00'),\n",
       " Timestamp('2020-10-29 00:00:00'),\n",
       " Timestamp('2020-12-11 00:00:00'),\n",
       " Timestamp('2021-01-21 00:00:00'),\n",
       " Timestamp('2021-03-02 00:00:00'),\n",
       " Timestamp('2021-03-11 00:00:00'),\n",
       " Timestamp('2021-03-18 00:00:00'),\n",
       " Timestamp('2021-04-14 00:00:00'),\n",
       " Timestamp('2021-06-10 00:00:00'),\n",
       " Timestamp('2021-06-22 00:00:00'),\n",
       " Timestamp('2021-07-02 00:00:00'),\n",
       " Timestamp('2021-09-28 00:00:00'),\n",
       " Timestamp('2021-11-07 00:00:00'),\n",
       " Timestamp('2021-11-16 00:00:00'),\n",
       " Timestamp('2021-11-23 00:00:00'),\n",
       " Timestamp('2021-11-30 00:00:00'),\n",
       " Timestamp('2021-12-08 00:00:00'),\n",
       " Timestamp('2021-12-17 00:00:00'),\n",
       " Timestamp('2022-01-03 00:00:00'),\n",
       " Timestamp('2022-01-21 00:00:00'),\n",
       " Timestamp('2022-02-04 00:00:00'),\n",
       " Timestamp('2022-02-10 00:00:00'),\n",
       " Timestamp('2022-02-17 00:00:00'),\n",
       " Timestamp('2022-02-18 00:00:00'),\n",
       " Timestamp('2022-03-03 00:00:00'),\n",
       " Timestamp('2022-03-10 00:00:00'),\n",
       " Timestamp('2022-03-16 00:00:00'),\n",
       " Timestamp('2022-04-14 00:00:00'),\n",
       " Timestamp('2022-04-22 00:00:00'),\n",
       " Timestamp('2022-04-25 00:00:00'),\n",
       " Timestamp('2022-04-28 00:00:00'),\n",
       " Timestamp('2022-05-02 00:00:00'),\n",
       " Timestamp('2022-05-06 00:00:00'),\n",
       " Timestamp('2022-05-13 00:00:00'),\n",
       " Timestamp('2022-06-09 00:00:00'),\n",
       " Timestamp('2022-06-21 00:00:00'),\n",
       " Timestamp('2022-06-29 00:00:00'),\n",
       " Timestamp('2022-07-05 00:00:00'),\n",
       " Timestamp('2022-07-21 00:00:00'),\n",
       " Timestamp('2022-08-30 00:00:00'),\n",
       " Timestamp('2022-09-08 00:00:00'),\n",
       " Timestamp('2022-09-21 00:00:00'),\n",
       " Timestamp('2022-09-26 00:00:00'),\n",
       " Timestamp('2022-10-03 00:00:00'),\n",
       " Timestamp('2022-10-17 00:00:00'),\n",
       " Timestamp('2022-10-27 00:00:00'),\n",
       " Timestamp('2022-11-04 00:00:00'),\n",
       " Timestamp('2022-11-15 00:00:00'),\n",
       " Timestamp('2022-11-21 00:00:00'),\n",
       " Timestamp('2022-11-29 00:00:00'),\n",
       " Timestamp('2022-12-20 00:00:00'),\n",
       " Timestamp('2023-02-02 00:00:00'),\n",
       " Timestamp('2023-02-16 00:00:00'),\n",
       " Timestamp('2023-03-16 00:00:00'),\n",
       " Timestamp('2023-03-21 00:00:00'),\n",
       " Timestamp('2023-03-22 00:00:00'),\n",
       " Timestamp('2023-04-04 00:00:00'),\n",
       " Timestamp('2023-04-18 00:00:00'),\n",
       " Timestamp('2023-05-04 00:00:00'),\n",
       " Timestamp('2023-06-01 00:00:00'),\n",
       " Timestamp('2023-06-06 00:00:00'),\n",
       " Timestamp('2023-06-19 00:00:00'),\n",
       " Timestamp('2023-06-20 00:00:00'),\n",
       " Timestamp('2023-06-28 00:00:00'),\n",
       " Timestamp('2023-07-11 00:00:00'),\n",
       " Timestamp('2023-07-31 00:00:00'),\n",
       " Timestamp('2023-09-01 00:00:00'),\n",
       " Timestamp('2023-09-14 00:00:00'),\n",
       " Timestamp('2023-09-25 00:00:00'),\n",
       " Timestamp('2023-10-06 00:00:00'),\n",
       " Timestamp('2023-10-17 00:00:00'),\n",
       " Timestamp('2023-10-26 00:00:00'),\n",
       " Timestamp('2023-11-08 00:00:00'),\n",
       " Timestamp('2023-11-13 00:00:00'),\n",
       " Timestamp('2023-11-22 00:00:00'),\n",
       " Timestamp('2023-11-27 00:00:00'),\n",
       " Timestamp('2023-12-04 00:00:00'),\n",
       " Timestamp('2023-12-05 00:00:00'),\n",
       " Timestamp('2024-01-17 00:00:00'),\n",
       " Timestamp('2024-02-08 00:00:00'),\n",
       " Timestamp('2024-02-14 00:00:00'),\n",
       " Timestamp('2024-02-16 00:00:00'),\n",
       " Timestamp('2023-11-07 00:00:00'),\n",
       " Timestamp('2023-11-20 00:00:00'),\n",
       " Timestamp('2019-09-25 00:00:00'),\n",
       " Timestamp('2019-10-01 00:00:00'),\n",
       " Timestamp('2019-11-26 00:00:00'),\n",
       " Timestamp('2020-02-06 00:00:00'),\n",
       " Timestamp('2020-02-11 00:00:00'),\n",
       " Timestamp('2020-03-19 00:00:00'),\n",
       " Timestamp('2020-04-21 00:00:00'),\n",
       " Timestamp('2020-05-28 00:00:00'),\n",
       " Timestamp('2020-06-04 00:00:00'),\n",
       " Timestamp('2020-07-17 00:00:00'),\n",
       " Timestamp('2020-08-03 00:00:00'),\n",
       " Timestamp('2020-08-10 00:00:00'),\n",
       " Timestamp('2020-11-24 00:00:00'),\n",
       " Timestamp('2020-12-04 00:00:00'),\n",
       " Timestamp('2021-02-04 00:00:00'),\n",
       " Timestamp('2021-02-16 00:00:00'),\n",
       " Timestamp('2021-03-10 00:00:00'),\n",
       " Timestamp('2021-05-06 00:00:00'),\n",
       " Timestamp('2021-06-17 00:00:00'),\n",
       " Timestamp('2021-07-09 00:00:00'),\n",
       " Timestamp('2021-08-09 00:00:00'),\n",
       " Timestamp('2021-09-15 00:00:00'),\n",
       " Timestamp('2021-11-16 00:00:00'),\n",
       " Timestamp('2022-02-02 00:00:00'),\n",
       " Timestamp('2022-02-11 00:00:00'),\n",
       " Timestamp('2022-02-23 00:00:00'),\n",
       " Timestamp('2022-05-04 00:00:00'),\n",
       " Timestamp('2022-05-23 00:00:00'),\n",
       " Timestamp('2022-06-21 00:00:00'),\n",
       " Timestamp('2022-09-08 00:00:00'),\n",
       " Timestamp('2022-09-16 00:00:00'),\n",
       " Timestamp('2022-10-19 00:00:00'),\n",
       " Timestamp('2022-10-24 00:00:00'),\n",
       " Timestamp('2022-11-09 00:00:00'),\n",
       " Timestamp('2022-11-22 00:00:00'),\n",
       " Timestamp('2023-02-17 00:00:00'),\n",
       " Timestamp('2023-03-08 00:00:00'),\n",
       " Timestamp('2023-04-05 00:00:00'),\n",
       " Timestamp('2023-04-20 00:00:00'),\n",
       " Timestamp('2023-06-20 00:00:00'),\n",
       " Timestamp('2023-07-12 00:00:00'),\n",
       " Timestamp('2023-08-14 00:00:00'),\n",
       " Timestamp('2023-09-07 00:00:00'),\n",
       " Timestamp('2023-10-11 00:00:00'),\n",
       " Timestamp('2023-10-26 00:00:00'),\n",
       " Timestamp('2023-11-15 00:00:00'),\n",
       " Timestamp('2023-11-27 00:00:00'),\n",
       " Timestamp('2024-02-09 00:00:00'),\n",
       " Timestamp('2020-04-20 00:00:00'),\n",
       " Timestamp('2020-05-07 00:00:00'),\n",
       " Timestamp('2020-07-15 00:00:00'),\n",
       " Timestamp('2020-11-06 00:00:00'),\n",
       " Timestamp('2020-12-17 00:00:00'),\n",
       " Timestamp('2021-04-30 00:00:00'),\n",
       " Timestamp('2022-06-20 00:00:00'),\n",
       " Timestamp('2022-09-22 00:00:00'),\n",
       " Timestamp('2022-11-18 00:00:00'),\n",
       " Timestamp('2022-12-19 00:00:00'),\n",
       " Timestamp('2023-09-21 00:00:00'),\n",
       " Timestamp('2023-11-02 00:00:00'),\n",
       " Timestamp('2023-11-15 00:00:00'),\n",
       " Timestamp('2023-11-20 00:00:00'),\n",
       " Timestamp('2023-12-15 00:00:00'),\n",
       " Timestamp('2020-02-05 00:00:00'),\n",
       " Timestamp('2020-02-06 00:00:00'),\n",
       " Timestamp('2020-05-26 00:00:00'),\n",
       " Timestamp('2020-08-03 00:00:00'),\n",
       " Timestamp('2020-08-31 00:00:00'),\n",
       " Timestamp('2020-09-02 00:00:00'),\n",
       " Timestamp('2020-09-23 00:00:00'),\n",
       " Timestamp('2020-10-30 00:00:00'),\n",
       " Timestamp('2020-11-04 00:00:00'),\n",
       " Timestamp('2020-11-19 00:00:00'),\n",
       " Timestamp('2020-11-25 00:00:00'),\n",
       " Timestamp('2020-12-04 00:00:00'),\n",
       " Timestamp('2020-12-08 00:00:00'),\n",
       " Timestamp('2020-12-23 00:00:00'),\n",
       " Timestamp('2021-02-04 00:00:00'),\n",
       " Timestamp('2021-02-18 00:00:00'),\n",
       " Timestamp('2021-03-12 00:00:00'),\n",
       " Timestamp('2021-05-17 00:00:00'),\n",
       " Timestamp('2021-05-19 00:00:00'),\n",
       " Timestamp('2022-03-11 00:00:00'),\n",
       " Timestamp('2022-04-20 00:00:00'),\n",
       " Timestamp('2022-06-03 00:00:00'),\n",
       " Timestamp('2022-11-18 00:00:00'),\n",
       " Timestamp('2022-11-21 00:00:00'),\n",
       " Timestamp('2022-12-14 00:00:00'),\n",
       " Timestamp('2023-02-02 00:00:00'),\n",
       " Timestamp('2023-03-01 00:00:00'),\n",
       " Timestamp('2023-03-08 00:00:00'),\n",
       " Timestamp('2023-06-28 00:00:00'),\n",
       " Timestamp('2023-07-12 00:00:00'),\n",
       " Timestamp('2023-08-03 00:00:00'),\n",
       " Timestamp('2023-09-06 00:00:00'),\n",
       " Timestamp('2023-09-12 00:00:00'),\n",
       " Timestamp('2023-09-25 00:00:00'),\n",
       " Timestamp('2023-10-02 00:00:00'),\n",
       " Timestamp('2023-11-07 00:00:00'),\n",
       " Timestamp('2023-11-20 00:00:00'),\n",
       " Timestamp('2023-12-07 00:00:00'),\n",
       " Timestamp('2023-12-13 00:00:00'),\n",
       " Timestamp('2023-12-27 00:00:00'),\n",
       " Timestamp('2024-02-08 00:00:00'),\n",
       " Timestamp('2020-08-17 00:00:00'),\n",
       " Timestamp('2021-01-08 00:00:00'),\n",
       " Timestamp('2022-01-13 00:00:00'),\n",
       " Timestamp('2022-06-10 00:00:00'),\n",
       " Timestamp('2022-07-13 00:00:00'),\n",
       " Timestamp('2022-10-28 00:00:00'),\n",
       " Timestamp('2022-11-25 00:00:00'),\n",
       " Timestamp('2023-01-10 00:00:00'),\n",
       " Timestamp('2024-02-14 00:00:00')]"
      ]
     },
     "execution_count": 35,
     "metadata": {},
     "output_type": "execute_result"
    }
   ],
   "source": [
    "data.index.tolist()"
   ]
  },
  {
   "cell_type": "code",
   "execution_count": 44,
   "metadata": {},
   "outputs": [],
   "source": [
    "target = pd.read_parquet(\"data/bonds.parquet\")"
   ]
  },
  {
   "cell_type": "code",
   "execution_count": 45,
   "metadata": {},
   "outputs": [
    {
     "data": {
      "text/html": [
       "<div>\n",
       "<style scoped>\n",
       "    .dataframe tbody tr th:only-of-type {\n",
       "        vertical-align: middle;\n",
       "    }\n",
       "\n",
       "    .dataframe tbody tr th {\n",
       "        vertical-align: top;\n",
       "    }\n",
       "\n",
       "    .dataframe thead th {\n",
       "        text-align: right;\n",
       "    }\n",
       "</style>\n",
       "<table border=\"1\" class=\"dataframe\">\n",
       "  <thead>\n",
       "    <tr style=\"text-align: right;\">\n",
       "      <th></th>\n",
       "      <th>usa</th>\n",
       "      <th>canada</th>\n",
       "      <th>europe</th>\n",
       "      <th>uk</th>\n",
       "      <th>australia</th>\n",
       "      <th>brazil</th>\n",
       "      <th>india</th>\n",
       "      <th>switzerland</th>\n",
       "      <th>japan</th>\n",
       "      <th>south korea</th>\n",
       "    </tr>\n",
       "  </thead>\n",
       "  <tbody>\n",
       "    <tr>\n",
       "      <th>2019-08-01</th>\n",
       "      <td>1.90</td>\n",
       "      <td>1.205238</td>\n",
       "      <td>0.0992</td>\n",
       "      <td>0.5776</td>\n",
       "      <td>0.955</td>\n",
       "      <td>5.5882</td>\n",
       "      <td>6.62</td>\n",
       "      <td>-0.975</td>\n",
       "      <td>-0.280</td>\n",
       "      <td>1.254</td>\n",
       "    </tr>\n",
       "    <tr>\n",
       "      <th>2019-09-01</th>\n",
       "      <td>1.50</td>\n",
       "      <td>1.364000</td>\n",
       "      <td>0.0478</td>\n",
       "      <td>0.5981</td>\n",
       "      <td>1.035</td>\n",
       "      <td>6.3432</td>\n",
       "      <td>6.82</td>\n",
       "      <td>-0.700</td>\n",
       "      <td>-0.215</td>\n",
       "      <td>1.420</td>\n",
       "    </tr>\n",
       "    <tr>\n",
       "      <th>2019-10-01</th>\n",
       "      <td>1.65</td>\n",
       "      <td>1.449545</td>\n",
       "      <td>0.1325</td>\n",
       "      <td>0.6373</td>\n",
       "      <td>1.037</td>\n",
       "      <td>4.4765</td>\n",
       "      <td>6.54</td>\n",
       "      <td>-0.511</td>\n",
       "      <td>-0.150</td>\n",
       "      <td>1.577</td>\n",
       "    </tr>\n",
       "    <tr>\n",
       "      <th>2019-11-01</th>\n",
       "      <td>1.73</td>\n",
       "      <td>1.499500</td>\n",
       "      <td>0.3016</td>\n",
       "      <td>0.7650</td>\n",
       "      <td>1.152</td>\n",
       "      <td>4.5261</td>\n",
       "      <td>6.64</td>\n",
       "      <td>-0.580</td>\n",
       "      <td>-0.080</td>\n",
       "      <td>1.750</td>\n",
       "    </tr>\n",
       "    <tr>\n",
       "      <th>2019-12-01</th>\n",
       "      <td>1.78</td>\n",
       "      <td>1.604500</td>\n",
       "      <td>0.3662</td>\n",
       "      <td>0.8308</td>\n",
       "      <td>1.202</td>\n",
       "      <td>4.4842</td>\n",
       "      <td>6.85</td>\n",
       "      <td>-0.456</td>\n",
       "      <td>-0.025</td>\n",
       "      <td>1.653</td>\n",
       "    </tr>\n",
       "  </tbody>\n",
       "</table>\n",
       "</div>"
      ],
      "text/plain": [
       "             usa    canada  europe      uk  australia  brazil  india  \\\n",
       "2019-08-01  1.90  1.205238  0.0992  0.5776      0.955  5.5882   6.62   \n",
       "2019-09-01  1.50  1.364000  0.0478  0.5981      1.035  6.3432   6.82   \n",
       "2019-10-01  1.65  1.449545  0.1325  0.6373      1.037  4.4765   6.54   \n",
       "2019-11-01  1.73  1.499500  0.3016  0.7650      1.152  4.5261   6.64   \n",
       "2019-12-01  1.78  1.604500  0.3662  0.8308      1.202  4.4842   6.85   \n",
       "\n",
       "            switzerland  japan  south korea  \n",
       "2019-08-01       -0.975 -0.280        1.254  \n",
       "2019-09-01       -0.700 -0.215        1.420  \n",
       "2019-10-01       -0.511 -0.150        1.577  \n",
       "2019-11-01       -0.580 -0.080        1.750  \n",
       "2019-12-01       -0.456 -0.025        1.653  "
      ]
     },
     "execution_count": 45,
     "metadata": {},
     "output_type": "execute_result"
    }
   ],
   "source": [
    "target.head()"
   ]
  },
  {
   "cell_type": "code",
   "execution_count": null,
   "metadata": {},
   "outputs": [],
   "source": [
    "target_resampled = target['usa'].resample('D').mean()\n",
    "\n",
    "# Shift the DataFrame\n",
    "target_shifted = target_resampled.shift(-30)\n",
    "\n",
    "# Interpolate missing values\n",
    "df_interpolated = target_shifted.interpolate(method='linear')"
   ]
  },
  {
   "cell_type": "code",
   "execution_count": 46,
   "metadata": {},
   "outputs": [],
   "source": [
    "sentences = df['content'].tolist()"
   ]
  },
  {
   "cell_type": "markdown",
   "metadata": {},
   "source": [
    "train word vectors"
   ]
  },
  {
   "cell_type": "code",
   "execution_count": 47,
   "metadata": {},
   "outputs": [
    {
     "data": {
      "text/plain": [
       "(220001, 1016310)"
      ]
     },
     "execution_count": 47,
     "metadata": {},
     "output_type": "execute_result"
    }
   ],
   "source": [
    "# Word2Vec\n",
    "word2vec = Word2Vec(sentences, vector_size=120, window=5, min_count=1, workers=4)\n",
    "word2vec.train(sentences, total_examples=len(sentences), epochs=10)"
   ]
  },
  {
   "cell_type": "code",
   "execution_count": 48,
   "metadata": {},
   "outputs": [],
   "source": [
    "word_vectors = word2vec.wv.vectors\n",
    "# Create a word-to-index dictionary\n",
    "word_to_index = {word: i for i, word in enumerate(word2vec.wv.index_to_key)}\n",
    "\n",
    "# Create an embedding matrix\n",
    "embedding_matrix = np.zeros((len(word_to_index) + 1, word2vec.vector_size))\n",
    "for word, i in word_to_index.items():\n",
    "    embedding_matrix[i] = word2vec.wv[word]"
   ]
  },
  {
   "cell_type": "markdown",
   "metadata": {},
   "source": [
    "Create target column"
   ]
  },
  {
   "cell_type": "code",
   "execution_count": 93,
   "metadata": {},
   "outputs": [
    {
     "name": "stdout",
     "output_type": "stream",
     "text": [
      "status\n",
      "0    4608\n",
      "Name: count, dtype: int64\n",
      "status\n",
      "0    4608\n",
      "Name: count, dtype: int64\n"
     ]
    }
   ],
   "source": [
    "print(df_daily['status'].value_counts())\n",
    "print(target.value_counts())"
   ]
  },
  {
   "cell_type": "code",
   "execution_count": 94,
   "metadata": {},
   "outputs": [],
   "source": [
    "\n"
   ]
  },
  {
   "cell_type": "code",
   "execution_count": 95,
   "metadata": {},
   "outputs": [
    {
     "name": "stdout",
     "output_type": "stream",
     "text": [
      "(4608, 48)\n",
      "(4608,)\n"
     ]
    }
   ],
   "source": [
    "# Word2Vec => tokenize my words to prep for LSTM\n",
    "tokenizer = Tokenizer()\n",
    "tokenizer.fit_on_texts(sentences)\n",
    "sequences = tokenizer.texts_to_sequences(sentences)\n",
    "data = pad_sequences(sequences)\n",
    "\n",
    "# Prepare target variable (freedom scores)\n",
    "\n",
    "print(data.shape)\n",
    "print(target.shape)"
   ]
  },
  {
   "cell_type": "code",
   "execution_count": 96,
   "metadata": {},
   "outputs": [],
   "source": [
    "def expand_features(full_array, window=50):\n",
    "\n",
    "    n_features = full_array.shape[1]\n",
    "    \n",
    "\n",
    "    expanded_features = np.zeros((full_array.shape[0], n_features * window))\n",
    "    for feature_idx in range(n_features):\n",
    "        # For each time step in the window\n",
    "        for lag in range(window):\n",
    "            # Shift the data\n",
    "            shifted_data = np.roll(full_array[:, feature_idx], lag)\n",
    "            # Set the first 'lag' values to zero\n",
    "            shifted_data[:lag] = 0\n",
    "            # Store it in the expanded features\n",
    "            expanded_features[:, feature_idx*window + lag] = shifted_data\n",
    "            \n",
    "    return expanded_features"
   ]
  },
  {
   "cell_type": "code",
   "execution_count": 97,
   "metadata": {},
   "outputs": [],
   "source": [
    "expanded_data = expand_features(data, 50)"
   ]
  },
  {
   "cell_type": "code",
   "execution_count": 98,
   "metadata": {},
   "outputs": [
    {
     "data": {
      "text/plain": [
       "(4608, 2400)"
      ]
     },
     "execution_count": 98,
     "metadata": {},
     "output_type": "execute_result"
    }
   ],
   "source": [
    "expanded_data.shape"
   ]
  },
  {
   "cell_type": "code",
   "execution_count": 99,
   "metadata": {},
   "outputs": [],
   "source": [
    "#sentiment_scores = df_selected.values\n",
    "# Reshape sentiment_scores to have the same number of columns as data\n",
    "#data_with_scores = np.concatenate([data, sentiment_scores], axis=1)"
   ]
  },
  {
   "cell_type": "code",
   "execution_count": 100,
   "metadata": {},
   "outputs": [],
   "source": [
    "from tensorflow.keras.layers import Bidirectional\n",
    "\n",
    "model = Sequential()\n",
    "model.add(Embedding(input_dim=len(word_to_index) + 1, output_dim=word2vec.vector_size, weights=[embedding_matrix]))\n",
    "model.add(Bidirectional(LSTM(64, return_sequences = True)))\n",
    "model.add(Bidirectional(LSTM(32)))\n",
    "model.add(Dense(1, activation = 'sigmoid'))\n",
    "\n",
    "# Compile the model with gradient clipping\n",
    "opt = Adam(clipvalue=0.5)\n",
    "model.compile(loss='binary_crossentropy', optimizer='adam', metrics=['accuracy'])"
   ]
  },
  {
   "cell_type": "code",
   "execution_count": 101,
   "metadata": {},
   "outputs": [
    {
     "name": "stdout",
     "output_type": "stream",
     "text": [
      "Epoch 1/6\n",
      "29/29 [==============================] - 622s 19s/step - loss: 0.0647 - accuracy: 1.0000 - val_loss: 5.5357e-04 - val_accuracy: 1.0000\n",
      "Epoch 2/6\n",
      "29/29 [==============================] - 533s 19s/step - loss: 3.1461e-04 - accuracy: 1.0000 - val_loss: 1.4066e-04 - val_accuracy: 1.0000\n",
      "Epoch 3/6\n",
      "29/29 [==============================] - 230s 8s/step - loss: 1.3757e-04 - accuracy: 1.0000 - val_loss: 9.7800e-05 - val_accuracy: 1.0000\n",
      "Epoch 4/6\n",
      "29/29 [==============================] - 226s 8s/step - loss: 1.0245e-04 - accuracy: 1.0000 - val_loss: 7.8097e-05 - val_accuracy: 1.0000\n",
      "Epoch 5/6\n",
      "29/29 [==============================] - 226s 8s/step - loss: 8.2536e-05 - accuracy: 1.0000 - val_loss: 6.5742e-05 - val_accuracy: 1.0000\n",
      "Epoch 6/6\n",
      "29/29 [==============================] - 232s 8s/step - loss: 6.9549e-05 - accuracy: 1.0000 - val_loss: 5.6550e-05 - val_accuracy: 1.0000\n"
     ]
    }
   ],
   "source": [
    "early_stopping = EarlyStopping(monitor='val_accuracy', patience=3)\n",
    "\n",
    "history = model.fit(expanded_data, target.values, epochs=6, validation_split=0.2, batch_size=128, verbose=1)"
   ]
  },
  {
   "cell_type": "code",
   "execution_count": 102,
   "metadata": {},
   "outputs": [
    {
     "name": "stdout",
     "output_type": "stream",
     "text": [
      "144/144 [==============================] - 107s 729ms/step\n"
     ]
    },
    {
     "name": "stderr",
     "output_type": "stream",
     "text": [
      "C:\\Users\\USER\\AppData\\Local\\Packages\\PythonSoftwareFoundation.Python.3.10_qbz5n2kfra8p0\\LocalCache\\local-packages\\Python310\\site-packages\\sklearn\\metrics\\_classification.py:386: UserWarning: A single label was found in 'y_true' and 'y_pred'. For the confusion matrix to have the correct shape, use the 'labels' parameter to pass all known labels.\n",
      "  warnings.warn(\n"
     ]
    },
    {
     "data": {
      "text/plain": [
       "Text(50.722222222222214, 0.5, 'True')"
      ]
     },
     "execution_count": 102,
     "metadata": {},
     "output_type": "execute_result"
    },
    {
     "data": {
      "image/png": "[encoded data removed]",
      "text/plain": [
       "<Figure size 640x480 with 2 Axes>"
      ]
     },
     "metadata": {},
     "output_type": "display_data"
    }
   ],
   "source": [
    "y_pred = model.predict(expanded_data) \n",
    "y_pred = np.argmax(y_pred, axis=1)\n",
    "# Generate confusion matrix\n",
    "cm = confusion_matrix(target, y_pred)\n",
    "sns.heatmap(cm, annot=True, fmt='d')\n",
    "plt.xlabel('Predicted')\n",
    "plt.ylabel('True')"
   ]
  },
  {
   "cell_type": "code",
   "execution_count": 103,
   "metadata": {},
   "outputs": [
    {
     "data": {
      "image/png": "[encoded data removed]",
      "text/plain": [
       "<Figure size 1200x800 with 1 Axes>"
      ]
     },
     "metadata": {},
     "output_type": "display_data"
    }
   ],
   "source": [
    "# Visualize the loss\n",
    "train_loss = history.history['loss']\n",
    "test_loss = history.history['val_loss']\n",
    "\n",
    "plt.figure(figsize=(12, 8))\n",
    "plt.plot(train_loss, label='Training loss', color='navy')\n",
    "plt.plot(test_loss, label='Testing loss', color='skyblue')\n",
    "plt.legend();"
   ]
  },
  {
   "cell_type": "code",
   "execution_count": 104,
   "metadata": {},
   "outputs": [],
   "source": [
    "# Get the embeddings from the embedding layer\n",
    "embeddings = model.layers[0].get_weights()[0]\n",
    "\n",
    "# Create a dictionary to map indices to words\n",
    "word_to_index = tokenizer.word_index\n",
    "index_to_word = {v: k for k, v in word_to_index.items()}\n",
    "\n",
    "# Now you can get the embedding of a word like this:\n",
    "word = \"example\"\n",
    "word_embedding = embeddings[word_to_index[word]]"
   ]
  },
  {
   "cell_type": "code",
   "execution_count": 105,
   "metadata": {},
   "outputs": [
    {
     "data": {
      "text/plain": [
       "array([-0.02255082,  0.00700866,  0.01382455, -0.01725335, -0.0303372 ,\n",
       "        0.00691848,  0.00236646,  0.00409759,  0.00865497,  0.01499956,\n",
       "        0.03027492,  0.00478874,  0.05840042, -0.07341922, -0.0409423 ,\n",
       "       -0.039711  , -0.00108071,  0.00610609,  0.00078649, -0.02993326,\n",
       "       -0.03670822, -0.08780694,  0.04805084, -0.00472046, -0.04872473,\n",
       "       -0.02216921, -0.02982769, -0.03591086, -0.04776158, -0.04431543,\n",
       "       -0.02666467, -0.0507408 ,  0.0025912 , -0.01916809, -0.00159528,\n",
       "       -0.00645231,  0.00669107, -0.04385322, -0.05963807,  0.05581766,\n",
       "        0.01428082, -0.01353354,  0.02933353, -0.00760281,  0.01590175,\n",
       "       -0.02009407,  0.02438172, -0.03350388, -0.04213658, -0.00349936,\n",
       "       -0.03961281, -0.03643121, -0.02806983,  0.04405316,  0.03430193,\n",
       "        0.07932195,  0.01480634,  0.0195814 ,  0.05859388, -0.03033327,\n",
       "       -0.00939258,  0.02022826,  0.00991661,  0.008676  ,  0.00866315,\n",
       "       -0.03844327,  0.00064403,  0.08034353, -0.01027812, -0.00245495,\n",
       "        0.04455815, -0.01286067,  0.00640143,  0.00594867, -0.00594536,\n",
       "       -0.0126495 ,  0.06230982, -0.02435716, -0.10640463,  0.01734547,\n",
       "        0.00469198,  0.02642162, -0.01666104,  0.06236816,  0.00700572,\n",
       "       -0.01782683, -0.02132284,  0.01168391, -0.00303314, -0.02213903,\n",
       "        0.04081661, -0.033553  ,  0.00172303,  0.00761522,  0.06300354,\n",
       "        0.00748645,  0.00574687, -0.04909169, -0.04445011, -0.02244568,\n",
       "        0.05609637,  0.00893739,  0.0081386 ,  0.01201765, -0.04305894,\n",
       "       -0.00853495, -0.05891719,  0.02441165,  0.00604736,  0.05860633,\n",
       "        0.06318025,  0.03799822, -0.02891731, -0.00908282,  0.02282234,\n",
       "        0.04332335,  0.02589925, -0.02508045,  0.04619076, -0.07099176],\n",
       "      dtype=float32)"
      ]
     },
     "execution_count": 105,
     "metadata": {},
     "output_type": "execute_result"
    }
   ],
   "source": [
    "word_embedding"
   ]
  },
  {
   "cell_type": "code",
   "execution_count": null,
   "metadata": {},
   "outputs": [],
   "source": []
  }
 ],
 "metadata": {
  "kernelspec": {
   "display_name": "Python 3",
   "language": "python",
   "name": "python3"
  },
  "language_info": {
   "codemirror_mode": {
    "name": "ipython",
    "version": 3
   },
   "file_extension": ".py",
   "mimetype": "text/x-python",
   "name": "python",
   "nbconvert_exporter": "python",
   "pygments_lexer": "ipython3",
   "version": "3.10.11"
  }
 },
 "nbformat": 4,
 "nbformat_minor": 2
}
