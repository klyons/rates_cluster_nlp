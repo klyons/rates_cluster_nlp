{
  "cells": [
    {
      "cell_type": "markdown",
      "metadata": {
        "id": "Lki-9AAENj4u"
      },
      "source": [
        "# Import libraries"
      ]
    },
    {
      "cell_type": "code",
      "execution_count": null,
      "metadata": {},
      "outputs": [],
      "source": [
        "#potential resources\n",
        "# https://blog.data.nasdaq.com/api-for-interest-rate-data\n",
        "# https://api-ninjas.com/api/interestrate\n",
        "# https://data.oecd.org/interest/long-term-interest-rates.htm"
      ]
    },
    {
      "cell_type": "code",
      "execution_count": 1,
      "metadata": {
        "colab": {
          "base_uri": "https://localhost:8080/"
        },
        "id": "J_Ia_rdsNj4v",
        "outputId": "42fa4869-2e66-4c08-c94a-f61be2e604a3"
      },
      "outputs": [
        {
          "name": "stderr",
          "output_type": "stream",
          "text": [
            "[nltk_data] Downloading package stopwords to /root/nltk_data...\n",
            "[nltk_data]   Unzipping corpora/stopwords.zip.\n"
          ]
        }
      ],
      "source": [
        "import pandas as pd\n",
        "import numpy as np\n",
        "\n",
        "from sklearn.model_selection import train_test_split\n",
        "from sklearn.preprocessing import StandardScaler, LabelEncoder\n",
        "\n",
        "import nltk\n",
        "nltk.download('stopwords')\n",
        "from nltk.corpus import stopwords\n",
        "\n",
        "from tensorflow.keras.preprocessing.text import Tokenizer\n",
        "from tensorflow.keras.preprocessing.sequence import pad_sequences\n",
        "from tensorflow.keras.layers import Dense, LSTM, Embedding\n",
        "from tensorflow.keras.models import Sequential\n",
        "from tensorflow.keras.utils import to_categorical"
      ]
    },
    {
      "cell_type": "code",
      "execution_count": 6,
      "metadata": {},
      "outputs": [
        {
          "name": "stdout",
          "output_type": "stream",
          "text": [
            "{'central_bank_rates': [{'central_bank': 'Danish Central Bank', 'country': 'Denmark', 'rate_pct': 3.75, 'last_updated': '09-15-2023'}], 'non_central_bank_rates': [{'name': 'Euribor - 1 week', 'rate_pct': 3.899, 'last_updated': '02-23-2024'}, {'name': 'USD LIBOR - overnight', 'rate_pct': 5.06157, 'last_updated': '06-30-2023'}, {'name': 'ESTER', 'rate_pct': 3.909, 'last_updated': '02-22-2024'}, {'name': 'SARON', 'rate_pct': 1.692129, 'last_updated': '02-22-2024'}, {'name': 'SONIA', 'rate_pct': 5.188, 'last_updated': '02-21-2024'}, {'name': 'TONAR', 'rate_pct': -0.006, 'last_updated': '02-21-2024'}]}\n"
          ]
        }
      ],
      "source": [
        "import requests\n",
        "\n",
        "# Define the API endpoint\n",
        "api_url = \"https://api.api-ninjas.com/v1/interestrate\"\n",
        "\n",
        "# Define the headers for the API request\n",
        "key = 'QjuPz1UUafFgZrrj+hOaog==jks4hAXt1kivxWFS'\n",
        "\n",
        "headers = {\n",
        "    'X-Api-Key': key  # replace 'YOUR_API_KEY' with your actual API key\n",
        "}\n",
        "\n",
        "# Define the parameters for the API request\n",
        "params = {\n",
        "    'country': 'Denmark'  # replace 'Mexico' with 'Switzerland' to get Swiss rates\n",
        "}\n",
        "\n",
        "# Make the API request\n",
        "response = requests.get(api_url, headers=headers, params=params)\n",
        "\n",
        "# Check the response\n",
        "if response.status_code == 200:\n",
        "    print(response.json())\n",
        "else:\n",
        "    print(\"Error:\", response.status_code, response.text)\n"
      ]
    },
    {
      "cell_type": "code",
      "execution_count": 7,
      "metadata": {},
      "outputs": [
        {
          "name": "stdout",
          "output_type": "stream",
          "text": [
            "{\"central_bank_rates\": [{\"central_bank\": \"Australian Central Bank\", \"country\": \"Australia\", \"rate_pct\": 4.35, \"last_updated\": \"11-08-2023\"}, {\"central_bank\": \"British Central Bank\", \"country\": \"United Kingdom\", \"rate_pct\": 5.25, \"last_updated\": \"08-03-2023\"}, {\"central_bank\": \"Chilean Central Bank\", \"country\": \"Chile\", \"rate_pct\": 7.25, \"last_updated\": \"02-01-2024\"}, {\"central_bank\": \"Chinese Central Bank\", \"country\": \"China\", \"rate_pct\": 3.45, \"last_updated\": \"08-21-2023\"}, {\"central_bank\": \"Czech Central Bank\", \"country\": \"Czech Republic\", \"rate_pct\": 6.25, \"last_updated\": \"02-08-2024\"}, {\"central_bank\": \"Danish Central Bank\", \"country\": \"Denmark\", \"rate_pct\": 3.75, \"last_updated\": \"09-15-2023\"}, {\"central_bank\": \"Mexican Central Bank\", \"country\": \"Mexico\", \"rate_pct\": 11.25, \"last_updated\": \"03-30-2023\"}, {\"central_bank\": \"New Zealand Central Bank\", \"country\": \"New Zealand\", \"rate_pct\": 5.5, \"last_updated\": \"05-24-2023\"}, {\"central_bank\": \"Norwegian Central Bank\", \"country\": \"Norway\", \"rate_pct\": 4.5, \"last_updated\": \"12-14-2023\"}, {\"central_bank\": \"Polish Central Bank\", \"country\": \"Poland\", \"rate_pct\": 5.75, \"last_updated\": \"10-04-2023\"}, {\"central_bank\": \"Russian Central Bank\", \"country\": \"Russia\", \"rate_pct\": 16.0, \"last_updated\": \"12-15-2023\"}, {\"central_bank\": \"Saudi Arabian Central Bank\", \"country\": \"Saudi Arabia\", \"rate_pct\": 6.0, \"last_updated\": \"07-26-2023\"}, {\"central_bank\": \"Swedish Central Bank\", \"country\": \"Sweden\", \"rate_pct\": 4.0, \"last_updated\": \"09-21-2023\"}, {\"central_bank\": \"Swiss Central Bank\", \"country\": \"Switzerland\", \"rate_pct\": 1.75, \"last_updated\": \"06-22-2023\"}, {\"central_bank\": \"Turkish Central Bank\", \"country\": \"T\\u00fcrkiye\", \"rate_pct\": 45.0, \"last_updated\": \"01-25-2024\"}], \"non_central_bank_rates\": [{\"name\": \"Euribor - 1 week\", \"rate_pct\": 3.899, \"last_updated\": \"02-23-2024\"}, {\"name\": \"USD LIBOR - overnight\", \"rate_pct\": 5.06157, \"last_updated\": \"06-30-2023\"}, {\"name\": \"ESTER\", \"rate_pct\": 3.909, \"last_updated\": \"02-22-2024\"}, {\"name\": \"SARON\", \"rate_pct\": 1.692129, \"last_updated\": \"02-22-2024\"}, {\"name\": \"SONIA\", \"rate_pct\": 5.188, \"last_updated\": \"02-21-2024\"}, {\"name\": \"TONAR\", \"rate_pct\": -0.006, \"last_updated\": \"02-21-2024\"}]}\n"
          ]
        }
      ],
      "source": [
        "import requests\n",
        "key = 'QjuPz1UUafFgZrrj+hOaog==jks4hAXt1kivxWFS'\n",
        "api_url = 'https://api.api-ninjas.com/v1/interestrate'\n",
        "response = requests.get(api_url, headers={'X-Api-Key': key})\n",
        "if response.status_code == requests.codes.ok:\n",
        "    print(response.text)\n",
        "else:\n",
        "    print(\"Error:\", response.status_code, response.text)"
      ]
    },
    {
      "cell_type": "code",
      "execution_count": 12,
      "metadata": {
        "colab": {
          "base_uri": "https://localhost:8080/",
          "height": 73
        },
        "id": "eICc3bpuNj4v",
        "outputId": "2550a377-b4d3-4ab6-b73f-5869bb7c11e6",
        "scrolled": true
      },
      "outputs": [
        {
          "name": "stdout",
          "output_type": "stream",
          "text": [
            "Filtered Central Bank Rates: [{'central_bank': 'Australian Central Bank', 'country': 'Australia', 'rate_pct': 4.35, 'last_updated': '11-08-2023'}, {'central_bank': 'British Central Bank', 'country': 'United Kingdom', 'rate_pct': 5.25, 'last_updated': '08-03-2023'}, {'central_bank': 'Chilean Central Bank', 'country': 'Chile', 'rate_pct': 7.25, 'last_updated': '02-01-2024'}, {'central_bank': 'Chinese Central Bank', 'country': 'China', 'rate_pct': 3.45, 'last_updated': '08-21-2023'}, {'central_bank': 'Czech Central Bank', 'country': 'Czech Republic', 'rate_pct': 6.25, 'last_updated': '02-08-2024'}, {'central_bank': 'Danish Central Bank', 'country': 'Denmark', 'rate_pct': 3.75, 'last_updated': '09-15-2023'}, {'central_bank': 'Mexican Central Bank', 'country': 'Mexico', 'rate_pct': 11.25, 'last_updated': '03-30-2023'}, {'central_bank': 'New Zealand Central Bank', 'country': 'New Zealand', 'rate_pct': 5.5, 'last_updated': '05-24-2023'}, {'central_bank': 'Norwegian Central Bank', 'country': 'Norway', 'rate_pct': 4.5, 'last_updated': '12-14-2023'}, {'central_bank': 'Polish Central Bank', 'country': 'Poland', 'rate_pct': 5.75, 'last_updated': '10-04-2023'}, {'central_bank': 'Russian Central Bank', 'country': 'Russia', 'rate_pct': 16.0, 'last_updated': '12-15-2023'}, {'central_bank': 'Saudi Arabian Central Bank', 'country': 'Saudi Arabia', 'rate_pct': 6.0, 'last_updated': '07-26-2023'}, {'central_bank': 'Swedish Central Bank', 'country': 'Sweden', 'rate_pct': 4.0, 'last_updated': '09-21-2023'}, {'central_bank': 'Swiss Central Bank', 'country': 'Switzerland', 'rate_pct': 1.75, 'last_updated': '06-22-2023'}, {'central_bank': 'Turkish Central Bank', 'country': 'Türkiye', 'rate_pct': 45.0, 'last_updated': '01-25-2024'}]\n",
            "Filtered Non-Central Bank Rates: [{'name': 'Euribor - 1 week', 'rate_pct': 3.899, 'last_updated': '02-23-2024'}, {'name': 'USD LIBOR - overnight', 'rate_pct': 5.06157, 'last_updated': '06-30-2023'}, {'name': 'ESTER', 'rate_pct': 3.909, 'last_updated': '02-22-2024'}, {'name': 'SARON', 'rate_pct': 1.692129, 'last_updated': '02-22-2024'}, {'name': 'SONIA', 'rate_pct': 5.188, 'last_updated': '02-21-2024'}, {'name': 'TONAR', 'rate_pct': -0.006, 'last_updated': '02-21-2024'}]\n"
          ]
        }
      ],
      "source": [
        "import requests\n",
        "from datetime import datetime, timedelta\n",
        "\n",
        "key = 'QjuPz1UUafFgZrrj+hOaog==jks4hAXt1kivxWFS'\n",
        "api_url = 'https://api.api-ninjas.com/v1/interestrate'\n",
        "\n",
        "response = requests.get(api_url, headers={'X-Api-Key': key})\n",
        "if response.status_code == requests.codes.ok:\n",
        "    data = response.json()\n",
        "    # Get the current date\n",
        "    current_date = datetime.now()\n",
        "    # Calculate the date two years ago from today\n",
        "    two_years_ago = current_date - timedelta(days=2*365)\n",
        "    \n",
        "    # Filter the data for the last two years\n",
        "    filtered_central_bank_rates = [item for item in data['central_bank_rates'] if datetime.strptime(item['last_updated'], '%m-%d-%Y') >= two_years_ago]\n",
        "    filtered_non_central_bank_rates = [item for item in data['non_central_bank_rates'] if datetime.strptime(item['last_updated'], '%m-%d-%Y') >= two_years_ago]\n",
        "    \n",
        "    print(\"Filtered Central Bank Rates:\", filtered_central_bank_rates)\n",
        "    print(\"Filtered Non-Central Bank Rates:\", filtered_non_central_bank_rates)\n",
        "else:\n",
        "    print(\"Error:\", response.status_code, response.text)\n",
        "\n"
      ]
    },
    {
      "cell_type": "markdown",
      "metadata": {
        "id": "pKyNd13fNj4v"
      },
      "source": [
        "# Load data"
      ]
    },
    {
      "cell_type": "code",
      "execution_count": 2,
      "metadata": {},
      "outputs": [
        {
          "name": "stdout",
          "output_type": "stream",
          "text": [
            "Error: The date string r231023h from India_r231023h.pdf does not match the format '%y%m%d'\n",
            "Error: The date string r221118 from Japan_r221118.pdf does not match the format '%y%m%d'\n",
            "Error: The date string 231115i from Switzerland_231115i.pdf does not match the format '%y%m%d'\n",
            "Error: The date string and from Topology_and_rates.pdf does not match the format '%y%m%d'\n",
            "Error: The date string 231115m from USA_231115m.pdf does not match the format '%y%m%d'\n"
          ]
        }
      ],
      "source": [
        "import os\n",
        "import PyPDF2\n",
        "from datetime import datetime\n",
        "\n",
        "# Specify the folder\n",
        "folder = './speaches'\n",
        "\n",
        "# Get a list of all files in the folder\n",
        "files = os.listdir(folder)\n",
        "\n",
        "# Filter the list for PDF files\n",
        "pdf_files = [file for file in files if file.endswith('.pdf')]\n",
        "\n",
        "# Iterate over the PDF files\n",
        "for pdf_file in pdf_files:\n",
        "    # Extract the date from the filename\n",
        "    country, date_str = pdf_file.split('_')[0], pdf_file.split('_')[1]  # This assumes the date is always at the same position in the filename\n",
        "\n",
        "    \n",
        "    try:\n",
        "        date_str = date_str.split('.')[0] # This assumes the date is always\n",
        "        date = datetime.strptime(date_str, '%y%m%d')  # Convert the date string to a datetime object\n",
        "    except ValueError:\n",
        "        print(f\"Error: The date string {date_str} from {pdf_file} does not match the format '%y%m%d'\")\n",
        "    # Open the PDF file\n",
        "    with open(os.path.join(folder, pdf_file), 'rb') as file:\n",
        "        # Create a PDF reader object\n",
        "        pdf_reader = PyPDF2.PdfReader(file)\n",
        "\n",
        "        # Read the content of the PDF\n",
        "        content = ''\n",
        "        for page_num in range(len(pdf_reader.pages)):\n",
        "            page = pdf_reader.pages[page_num]\n",
        "            content += page.extract_text()\n",
        "\n",
        "        # Now you can use the content of the PDF and the date as you wish\n"
      ]
    },
    {
      "cell_type": "code",
      "execution_count": 3,
      "metadata": {},
      "outputs": [
        {
          "name": "stdout",
          "output_type": "stream",
          "text": [
            "Error: The date string 231023h from India_231023h.pdf does not match the format '%y%m%d'\n",
            "Error: The date string and from Topology_and_rates.pdf does not match the format '%y%m%d'\n"
          ]
        }
      ],
      "source": [
        "import pandas as pd\n",
        "import os\n",
        "from datetime import datetime\n",
        "import PyPDF2\n",
        "\n",
        "# Initialize an empty dictionary to hold the dataframes\n",
        "dfs = {}\n",
        "\n",
        "for pdf_file in os.listdir(folder):\n",
        "    # Extract the country and date from the filename\n",
        "    country, date_str = pdf_file.split('_')[0], pdf_file.split('_')[1]\n",
        "\n",
        "    # Remove the file extension from the date string\n",
        "    date_str = date_str.split('.')[0]\n",
        "\n",
        "    try:\n",
        "        # Convert the date string to a datetime object\n",
        "        date = datetime.strptime(date_str, '%y%m%d')\n",
        "    except ValueError:\n",
        "        print(f\"Error: The date string {date_str} from {pdf_file} does not match the format '%y%m%d'\")\n",
        "        continue\n",
        "\n",
        "    # Open the PDF file\n",
        "    with open(os.path.join(folder, pdf_file), 'rb') as file:\n",
        "        # Create a PDF reader object\n",
        "        pdf_reader = PyPDF2.PdfReader(file)\n",
        "\n",
        "        # Read the content of the PDF\n",
        "        content = ''\n",
        "        for page_num in range(len(pdf_reader.pages)):\n",
        "            page = pdf_reader.pages[page_num]\n",
        "            content += page.extract_text()\n",
        "\n",
        "        # If the country is not in the dictionary, add it\n",
        "        if country not in dfs:\n",
        "            dfs[country] = pd.DataFrame(columns=['content'])\n",
        "\n",
        "        # Add the content of the PDF to the dataframe\n",
        "        dfs[country].loc[date] = content\n",
        "        \n",
        "for country, df in dfs.items():\n",
        "    df.to_parquet(f'{country.lower()}.parquet')"
      ]
    },
    {
      "cell_type": "code",
      "execution_count": 3,
      "metadata": {
        "colab": {
          "base_uri": "https://localhost:8080/",
          "height": 206
        },
        "id": "5cf9f71sNj4v",
        "outputId": "7be3fd5a-bafa-4a69-d618-804a542e2e38"
      },
      "outputs": [
        {
          "data": {
            "text/html": [
              "\n",
              "  <div id=\"df-eb5d092a-b8e7-4191-9012-d0fe570e7710\" class=\"colab-df-container\">\n",
              "    <div>\n",
              "<style scoped>\n",
              "    .dataframe tbody tr th:only-of-type {\n",
              "        vertical-align: middle;\n",
              "    }\n",
              "\n",
              "    .dataframe tbody tr th {\n",
              "        vertical-align: top;\n",
              "    }\n",
              "\n",
              "    .dataframe thead th {\n",
              "        text-align: right;\n",
              "    }\n",
              "</style>\n",
              "<table border=\"1\" class=\"dataframe\">\n",
              "  <thead>\n",
              "    <tr style=\"text-align: right;\">\n",
              "      <th></th>\n",
              "      <th>category</th>\n",
              "      <th>text</th>\n",
              "    </tr>\n",
              "  </thead>\n",
              "  <tbody>\n",
              "    <tr>\n",
              "      <th>0</th>\n",
              "      <td>tech</td>\n",
              "      <td>tv future in the hands of viewers with home th...</td>\n",
              "    </tr>\n",
              "    <tr>\n",
              "      <th>1</th>\n",
              "      <td>business</td>\n",
              "      <td>worldcom boss  left books alone  former worldc...</td>\n",
              "    </tr>\n",
              "    <tr>\n",
              "      <th>2</th>\n",
              "      <td>sport</td>\n",
              "      <td>tigers wary of farrell  gamble  leicester say ...</td>\n",
              "    </tr>\n",
              "    <tr>\n",
              "      <th>3</th>\n",
              "      <td>sport</td>\n",
              "      <td>yeading face newcastle in fa cup premiership s...</td>\n",
              "    </tr>\n",
              "    <tr>\n",
              "      <th>4</th>\n",
              "      <td>entertainment</td>\n",
              "      <td>ocean s twelve raids box office ocean s twelve...</td>\n",
              "    </tr>\n",
              "  </tbody>\n",
              "</table>\n",
              "</div>\n",
              "    <div class=\"colab-df-buttons\">\n",
              "\n",
              "  <div class=\"colab-df-container\">\n",
              "    <button class=\"colab-df-convert\" onclick=\"convertToInteractive('df-eb5d092a-b8e7-4191-9012-d0fe570e7710')\"\n",
              "            title=\"Convert this dataframe to an interactive table.\"\n",
              "            style=\"display:none;\">\n",
              "\n",
              "  <svg xmlns=\"http://www.w3.org/2000/svg\" height=\"24px\" viewBox=\"0 -960 960 960\">\n",
              "    <path d=\"M120-120v-720h720v720H120Zm60-500h600v-160H180v160Zm220 220h160v-160H400v160Zm0 220h160v-160H400v160ZM180-400h160v-160H180v160Zm440 0h160v-160H620v160ZM180-180h160v-160H180v160Zm440 0h160v-160H620v160Z\"/>\n",
              "  </svg>\n",
              "    </button>\n",
              "\n",
              "  <style>\n",
              "    .colab-df-container {\n",
              "      display:flex;\n",
              "      gap: 12px;\n",
              "    }\n",
              "\n",
              "    .colab-df-convert {\n",
              "      background-color: #E8F0FE;\n",
              "      border: none;\n",
              "      border-radius: 50%;\n",
              "      cursor: pointer;\n",
              "      display: none;\n",
              "      fill: #1967D2;\n",
              "      height: 32px;\n",
              "      padding: 0 0 0 0;\n",
              "      width: 32px;\n",
              "    }\n",
              "\n",
              "    .colab-df-convert:hover {\n",
              "      background-color: #E2EBFA;\n",
              "      box-shadow: 0px 1px 2px rgba(60, 64, 67, 0.3), 0px 1px 3px 1px rgba(60, 64, 67, 0.15);\n",
              "      fill: #174EA6;\n",
              "    }\n",
              "\n",
              "    .colab-df-buttons div {\n",
              "      margin-bottom: 4px;\n",
              "    }\n",
              "\n",
              "    [theme=dark] .colab-df-convert {\n",
              "      background-color: #3B4455;\n",
              "      fill: #D2E3FC;\n",
              "    }\n",
              "\n",
              "    [theme=dark] .colab-df-convert:hover {\n",
              "      background-color: #434B5C;\n",
              "      box-shadow: 0px 1px 3px 1px rgba(0, 0, 0, 0.15);\n",
              "      filter: drop-shadow(0px 1px 2px rgba(0, 0, 0, 0.3));\n",
              "      fill: #FFFFFF;\n",
              "    }\n",
              "  </style>\n",
              "\n",
              "    <script>\n",
              "      const buttonEl =\n",
              "        document.querySelector('#df-eb5d092a-b8e7-4191-9012-d0fe570e7710 button.colab-df-convert');\n",
              "      buttonEl.style.display =\n",
              "        google.colab.kernel.accessAllowed ? 'block' : 'none';\n",
              "\n",
              "      async function convertToInteractive(key) {\n",
              "        const element = document.querySelector('#df-eb5d092a-b8e7-4191-9012-d0fe570e7710');\n",
              "        const dataTable =\n",
              "          await google.colab.kernel.invokeFunction('convertToInteractive',\n",
              "                                                    [key], {});\n",
              "        if (!dataTable) return;\n",
              "\n",
              "        const docLinkHtml = 'Like what you see? Visit the ' +\n",
              "          '<a target=\"_blank\" href=https://colab.research.google.com/notebooks/data_table.ipynb>data table notebook</a>'\n",
              "          + ' to learn more about interactive tables.';\n",
              "        element.innerHTML = '';\n",
              "        dataTable['output_type'] = 'display_data';\n",
              "        await google.colab.output.renderOutput(dataTable, element);\n",
              "        const docLink = document.createElement('div');\n",
              "        docLink.innerHTML = docLinkHtml;\n",
              "        element.appendChild(docLink);\n",
              "      }\n",
              "    </script>\n",
              "  </div>\n",
              "\n",
              "\n",
              "<div id=\"df-c6292e93-f034-4297-8f29-a1f528953e24\">\n",
              "  <button class=\"colab-df-quickchart\" onclick=\"quickchart('df-c6292e93-f034-4297-8f29-a1f528953e24')\"\n",
              "            title=\"Suggest charts\"\n",
              "            style=\"display:none;\">\n",
              "\n",
              "<svg xmlns=\"http://www.w3.org/2000/svg\" height=\"24px\"viewBox=\"0 0 24 24\"\n",
              "     width=\"24px\">\n",
              "    <g>\n",
              "        <path d=\"M19 3H5c-1.1 0-2 .9-2 2v14c0 1.1.9 2 2 2h14c1.1 0 2-.9 2-2V5c0-1.1-.9-2-2-2zM9 17H7v-7h2v7zm4 0h-2V7h2v10zm4 0h-2v-4h2v4z\"/>\n",
              "    </g>\n",
              "</svg>\n",
              "  </button>\n",
              "\n",
              "<style>\n",
              "  .colab-df-quickchart {\n",
              "      --bg-color: #E8F0FE;\n",
              "      --fill-color: #1967D2;\n",
              "      --hover-bg-color: #E2EBFA;\n",
              "      --hover-fill-color: #174EA6;\n",
              "      --disabled-fill-color: #AAA;\n",
              "      --disabled-bg-color: #DDD;\n",
              "  }\n",
              "\n",
              "  [theme=dark] .colab-df-quickchart {\n",
              "      --bg-color: #3B4455;\n",
              "      --fill-color: #D2E3FC;\n",
              "      --hover-bg-color: #434B5C;\n",
              "      --hover-fill-color: #FFFFFF;\n",
              "      --disabled-bg-color: #3B4455;\n",
              "      --disabled-fill-color: #666;\n",
              "  }\n",
              "\n",
              "  .colab-df-quickchart {\n",
              "    background-color: var(--bg-color);\n",
              "    border: none;\n",
              "    border-radius: 50%;\n",
              "    cursor: pointer;\n",
              "    display: none;\n",
              "    fill: var(--fill-color);\n",
              "    height: 32px;\n",
              "    padding: 0;\n",
              "    width: 32px;\n",
              "  }\n",
              "\n",
              "  .colab-df-quickchart:hover {\n",
              "    background-color: var(--hover-bg-color);\n",
              "    box-shadow: 0 1px 2px rgba(60, 64, 67, 0.3), 0 1px 3px 1px rgba(60, 64, 67, 0.15);\n",
              "    fill: var(--button-hover-fill-color);\n",
              "  }\n",
              "\n",
              "  .colab-df-quickchart-complete:disabled,\n",
              "  .colab-df-quickchart-complete:disabled:hover {\n",
              "    background-color: var(--disabled-bg-color);\n",
              "    fill: var(--disabled-fill-color);\n",
              "    box-shadow: none;\n",
              "  }\n",
              "\n",
              "  .colab-df-spinner {\n",
              "    border: 2px solid var(--fill-color);\n",
              "    border-color: transparent;\n",
              "    border-bottom-color: var(--fill-color);\n",
              "    animation:\n",
              "      spin 1s steps(1) infinite;\n",
              "  }\n",
              "\n",
              "  @keyframes spin {\n",
              "    0% {\n",
              "      border-color: transparent;\n",
              "      border-bottom-color: var(--fill-color);\n",
              "      border-left-color: var(--fill-color);\n",
              "    }\n",
              "    20% {\n",
              "      border-color: transparent;\n",
              "      border-left-color: var(--fill-color);\n",
              "      border-top-color: var(--fill-color);\n",
              "    }\n",
              "    30% {\n",
              "      border-color: transparent;\n",
              "      border-left-color: var(--fill-color);\n",
              "      border-top-color: var(--fill-color);\n",
              "      border-right-color: var(--fill-color);\n",
              "    }\n",
              "    40% {\n",
              "      border-color: transparent;\n",
              "      border-right-color: var(--fill-color);\n",
              "      border-top-color: var(--fill-color);\n",
              "    }\n",
              "    60% {\n",
              "      border-color: transparent;\n",
              "      border-right-color: var(--fill-color);\n",
              "    }\n",
              "    80% {\n",
              "      border-color: transparent;\n",
              "      border-right-color: var(--fill-color);\n",
              "      border-bottom-color: var(--fill-color);\n",
              "    }\n",
              "    90% {\n",
              "      border-color: transparent;\n",
              "      border-bottom-color: var(--fill-color);\n",
              "    }\n",
              "  }\n",
              "</style>\n",
              "\n",
              "  <script>\n",
              "    async function quickchart(key) {\n",
              "      const quickchartButtonEl =\n",
              "        document.querySelector('#' + key + ' button');\n",
              "      quickchartButtonEl.disabled = true;  // To prevent multiple clicks.\n",
              "      quickchartButtonEl.classList.add('colab-df-spinner');\n",
              "      try {\n",
              "        const charts = await google.colab.kernel.invokeFunction(\n",
              "            'suggestCharts', [key], {});\n",
              "      } catch (error) {\n",
              "        console.error('Error during call to suggestCharts:', error);\n",
              "      }\n",
              "      quickchartButtonEl.classList.remove('colab-df-spinner');\n",
              "      quickchartButtonEl.classList.add('colab-df-quickchart-complete');\n",
              "    }\n",
              "    (() => {\n",
              "      let quickchartButtonEl =\n",
              "        document.querySelector('#df-c6292e93-f034-4297-8f29-a1f528953e24 button');\n",
              "      quickchartButtonEl.style.display =\n",
              "        google.colab.kernel.accessAllowed ? 'block' : 'none';\n",
              "    })();\n",
              "  </script>\n",
              "</div>\n",
              "    </div>\n",
              "  </div>\n"
            ],
            "text/plain": [
              "        category                                               text\n",
              "0           tech  tv future in the hands of viewers with home th...\n",
              "1       business  worldcom boss  left books alone  former worldc...\n",
              "2          sport  tigers wary of farrell  gamble  leicester say ...\n",
              "3          sport  yeading face newcastle in fa cup premiership s...\n",
              "4  entertainment  ocean s twelve raids box office ocean s twelve..."
            ]
          },
          "execution_count": 3,
          "metadata": {},
          "output_type": "execute_result"
        }
      ],
      "source": [
        "# bbc news data\n",
        "import io\n",
        "df = pd.read_csv(io.BytesIO(uploaded['bbc-text.csv']))\n",
        "\n",
        "df.head()"
      ]
    },
    {
      "cell_type": "code",
      "execution_count": 4,
      "metadata": {
        "colab": {
          "base_uri": "https://localhost:8080/"
        },
        "id": "2_KMI81WYAdS",
        "outputId": "fb997bdc-d992-4209-9c1f-db93041d3eec"
      },
      "outputs": [
        {
          "data": {
            "text/plain": [
              "(2225, 2)"
            ]
          },
          "execution_count": 4,
          "metadata": {},
          "output_type": "execute_result"
        }
      ],
      "source": [
        "df.shape"
      ]
    },
    {
      "cell_type": "code",
      "execution_count": 5,
      "metadata": {
        "colab": {
          "base_uri": "https://localhost:8080/"
        },
        "id": "9eUUJJppYDki",
        "outputId": "e350c0e0-61c9-4e64-ac17-18faedd8e0a6"
      },
      "outputs": [
        {
          "data": {
            "text/plain": [
              "sport            0.229663\n",
              "business         0.229213\n",
              "politics         0.187416\n",
              "tech             0.180225\n",
              "entertainment    0.173483\n",
              "Name: category, dtype: float64"
            ]
          },
          "execution_count": 5,
          "metadata": {},
          "output_type": "execute_result"
        }
      ],
      "source": [
        "df['category'].value_counts(normalize=True)"
      ]
    },
    {
      "cell_type": "markdown",
      "metadata": {
        "id": "XvgmG76tNj4w"
      },
      "source": [
        "# Remove Stopwords and create two lists containing articles and labels"
      ]
    },
    {
      "cell_type": "code",
      "execution_count": 6,
      "metadata": {
        "id": "OwL1huyYNj4w"
      },
      "outputs": [],
      "source": [
        "articles = []\n",
        "labels = []\n",
        "\n",
        "for index, row in df.iterrows():\n",
        "  labels.append(row['category'])\n",
        "\n",
        "  token_list = [x for x in row['text'].split() if x not in stopwords.words('english')]\n",
        "\n",
        "  articles.append(\" \".join(token_list))"
      ]
    },
    {
      "cell_type": "code",
      "execution_count": 7,
      "metadata": {
        "colab": {
          "base_uri": "https://localhost:8080/",
          "height": 174
        },
        "id": "qzGlDd04ZLvB",
        "outputId": "d523d01c-2f5d-4d3d-9a02-85328b498422"
      },
      "outputs": [
        {
          "data": {
            "application/vnd.google.colaboratory.intrinsic+json": {
              "type": "string"
            },
            "text/plain": [
              "'tv future in the hands of viewers with home theatre systems  plasma high-definition tvs  and digital video recorders moving into the living room  the way people watch tv will be radically different in five years  time.  that is according to an expert panel which gathered at the annual consumer electronics show in las vegas to discuss how these new technologies will impact one of our favourite pastimes. with the us leading the trend  programmes and other content will be delivered to viewers via home networks  through cable  satellite  telecoms companies  and broadband service providers to front rooms and portable devices.  one of the most talked-about technologies of ces has been digital and personal video recorders (dvr and pvr). these set-top boxes  like the us s tivo and the uk s sky+ system  allow people to record  store  play  pause and forward wind tv programmes when they want.  essentially  the technology allows for much more personalised tv. they are also being built-in to high-definition tv sets  which are big business in japan and the us  but slower to take off in europe because of the lack of high-definition programming. not only can people forward wind through adverts  they can also forget about abiding by network and channel schedules  putting together their own a-la-carte entertainment. but some us networks and cable and satellite companies are worried about what it means for them in terms of advertising revenues as well as  brand identity  and viewer loyalty to channels. although the us leads in this technology at the moment  it is also a concern that is being raised in europe  particularly with the growing uptake of services like sky+.  what happens here today  we will see in nine months to a years  time in the uk   adam hume  the bbc broadcast s futurologist told the bbc news website. for the likes of the bbc  there are no issues of lost advertising revenue yet. it is a more pressing issue at the moment for commercial uk broadcasters  but brand loyalty is important for everyone.  we will be talking more about content brands rather than network brands   said tim hanlon  from brand communications firm starcom mediavest.  the reality is that with broadband connections  anybody can be the producer of content.  he added:  the challenge now is that it is hard to promote a programme with so much choice.   what this means  said stacey jolna  senior vice president of tv guide tv group  is that the way people find the content they want to watch has to be simplified for tv viewers. it means that networks  in us terms  or channels could take a leaf out of google s book and be the search engine of the future  instead of the scheduler to help people find what they want to watch. this kind of channel model might work for the younger ipod generation which is used to taking control of their gadgets and what they play on them. but it might not suit everyone  the panel recognised. older generations are more comfortable with familiar schedules and channel brands because they know what they are getting. they perhaps do not want so much of the choice put into their hands  mr hanlon suggested.  on the other end  you have the kids just out of diapers who are pushing buttons already - everything is possible and available to them   said mr hanlon.  ultimately  the consumer will tell the market they want.   of the 50 000 new gadgets and technologies being showcased at ces  many of them are about enhancing the tv-watching experience. high-definition tv sets are everywhere and many new models of lcd (liquid crystal display) tvs have been launched with dvr capability built into them  instead of being external boxes. one such example launched at the show is humax s 26-inch lcd tv with an 80-hour tivo dvr and dvd recorder. one of the us s biggest satellite tv companies  directtv  has even launched its own branded dvr at the show with 100-hours of recording capability  instant replay  and a search function. the set can pause and rewind tv for up to 90 hours. and microsoft chief bill gates announced in his pre-show keynote speech a partnership with tivo  called tivotogo  which means people can play recorded programmes on windows pcs and mobile devices. all these reflect the increasing trend of freeing up multimedia so that people can watch what they want  when they want.'"
            ]
          },
          "execution_count": 7,
          "metadata": {},
          "output_type": "execute_result"
        }
      ],
      "source": [
        "df.iloc[0, 1]"
      ]
    },
    {
      "cell_type": "code",
      "execution_count": 8,
      "metadata": {
        "colab": {
          "base_uri": "https://localhost:8080/",
          "height": 174
        },
        "id": "QigZhd17ZLsH",
        "outputId": "6cdfc380-5d04-49d5-a7c2-9482592b2499"
      },
      "outputs": [
        {
          "data": {
            "application/vnd.google.colaboratory.intrinsic+json": {
              "type": "string"
            },
            "text/plain": [
              "'tv future hands viewers home theatre systems plasma high-definition tvs digital video recorders moving living room way people watch tv radically different five years time. according expert panel gathered annual consumer electronics show las vegas discuss new technologies impact one favourite pastimes. us leading trend programmes content delivered viewers via home networks cable satellite telecoms companies broadband service providers front rooms portable devices. one talked-about technologies ces digital personal video recorders (dvr pvr). set-top boxes like us tivo uk sky+ system allow people record store play pause forward wind tv programmes want. essentially technology allows much personalised tv. also built-in high-definition tv sets big business japan us slower take europe lack high-definition programming. people forward wind adverts also forget abiding network channel schedules putting together a-la-carte entertainment. us networks cable satellite companies worried means terms advertising revenues well brand identity viewer loyalty channels. although us leads technology moment also concern raised europe particularly growing uptake services like sky+. happens today see nine months years time uk adam hume bbc broadcast futurologist told bbc news website. likes bbc issues lost advertising revenue yet. pressing issue moment commercial uk broadcasters brand loyalty important everyone. talking content brands rather network brands said tim hanlon brand communications firm starcom mediavest. reality broadband connections anybody producer content. added: challenge hard promote programme much choice. means said stacey jolna senior vice president tv guide tv group way people find content want watch simplified tv viewers. means networks us terms channels could take leaf google book search engine future instead scheduler help people find want watch. kind channel model might work younger ipod generation used taking control gadgets play them. might suit everyone panel recognised. older generations comfortable familiar schedules channel brands know getting. perhaps want much choice put hands mr hanlon suggested. end kids diapers pushing buttons already - everything possible available said mr hanlon. ultimately consumer tell market want. 50 000 new gadgets technologies showcased ces many enhancing tv-watching experience. high-definition tv sets everywhere many new models lcd (liquid crystal display) tvs launched dvr capability built instead external boxes. one example launched show humax 26-inch lcd tv 80-hour tivo dvr dvd recorder. one us biggest satellite tv companies directtv even launched branded dvr show 100-hours recording capability instant replay search function. set pause rewind tv 90 hours. microsoft chief bill gates announced pre-show keynote speech partnership tivo called tivotogo means people play recorded programmes windows pcs mobile devices. reflect increasing trend freeing multimedia people watch want want.'"
            ]
          },
          "execution_count": 8,
          "metadata": {},
          "output_type": "execute_result"
        }
      ],
      "source": [
        "articles[0]"
      ]
    },
    {
      "cell_type": "code",
      "execution_count": null,
      "metadata": {
        "id": "zAVQsBKSZLnP"
      },
      "outputs": [],
      "source": []
    },
    {
      "cell_type": "code",
      "execution_count": null,
      "metadata": {
        "id": "HEnDHYmyZLSX"
      },
      "outputs": [],
      "source": []
    },
    {
      "cell_type": "markdown",
      "metadata": {
        "id": "X19XBl_1Nj4w"
      },
      "source": [
        "# Train test split"
      ]
    },
    {
      "cell_type": "code",
      "execution_count": 9,
      "metadata": {
        "id": "zkoguvvvNj4w"
      },
      "outputs": [],
      "source": [
        "X_train, X_test, y_train, y_test = train_test_split(articles, labels, random_state = 42, test_size = 0.2,\n",
        "                                                    stratify = labels)"
      ]
    },
    {
      "cell_type": "code",
      "execution_count": 10,
      "metadata": {
        "colab": {
          "base_uri": "https://localhost:8080/"
        },
        "id": "-w8YhanZNj4w",
        "outputId": "e89ca44e-151a-4d66-bf05-94c111db2634"
      },
      "outputs": [
        {
          "name": "stdout",
          "output_type": "stream",
          "text": [
            "1780 445\n"
          ]
        }
      ],
      "source": [
        "print(len(X_train), len(X_test))"
      ]
    },
    {
      "cell_type": "markdown",
      "metadata": {
        "id": "xB1QTpynNj4w"
      },
      "source": [
        "# Tokenization and word indexing"
      ]
    },
    {
      "cell_type": "code",
      "execution_count": 12,
      "metadata": {
        "id": "mjtVpxbxNj4w"
      },
      "outputs": [],
      "source": [
        "# Define some variables\n",
        "vocab_size = 5000 # max number of words\n",
        "embedding_dim = 64 # This is the dimension of the Word Vector\n",
        "max_length = 200 # maximum length of the sequence\n",
        "trunc_type = 'post' # where to chop off\n",
        "padding_type = 'post' # where to put the padding\n",
        "oov_token = '<OOV>'\n"
      ]
    },
    {
      "cell_type": "code",
      "execution_count": 14,
      "metadata": {
        "id": "VeEWMp_wNj4w"
      },
      "outputs": [],
      "source": [
        "tokenizer = Tokenizer(num_words=vocab_size, oov_token = oov_token)"
      ]
    },
    {
      "cell_type": "code",
      "execution_count": 16,
      "metadata": {
        "id": "ebxYj3becGDC"
      },
      "outputs": [],
      "source": [
        "tokenizer.fit_on_texts(X_train)"
      ]
    },
    {
      "cell_type": "code",
      "execution_count": 17,
      "metadata": {
        "colab": {
          "base_uri": "https://localhost:8080/"
        },
        "id": "ku3m6sPUcF4E",
        "outputId": "268056ed-740a-4e9a-edb5-c829263d68d9"
      },
      "outputs": [
        {
          "data": {
            "text/plain": [
              "{'<OOV>': 1,\n",
              " 'said': 2,\n",
              " 'mr': 3,\n",
              " 'would': 4,\n",
              " 'year': 5,\n",
              " 'also': 6,\n",
              " 'people': 7,\n",
              " 'new': 8,\n",
              " 'us': 9,\n",
              " 'one': 10,\n",
              " 'could': 11,\n",
              " 'last': 12,\n",
              " 'time': 13,\n",
              " 'first': 14,\n",
              " 'two': 15,\n",
              " 'world': 16,\n",
              " 'government': 17,\n",
              " 'uk': 18,\n",
              " 'years': 19,\n",
              " 'make': 20,\n",
              " 'best': 21,\n",
              " 'told': 22,\n",
              " 'like': 23,\n",
              " 'film': 24,\n",
              " 'get': 25,\n",
              " 'music': 26,\n",
              " 'made': 27,\n",
              " '000': 28,\n",
              " 'game': 29,\n",
              " 'back': 30,\n",
              " 'many': 31,\n",
              " 'labour': 32,\n",
              " 'three': 33,\n",
              " 'well': 34,\n",
              " 'bbc': 35,\n",
              " 'set': 36,\n",
              " 'number': 37,\n",
              " '1': 38,\n",
              " 'added': 39,\n",
              " 'way': 40,\n",
              " 'next': 41,\n",
              " 'take': 42,\n",
              " 'company': 43,\n",
              " '2': 44,\n",
              " 'says': 45,\n",
              " 'may': 46,\n",
              " 'market': 47,\n",
              " 'election': 48,\n",
              " '2004': 49,\n",
              " 'good': 50,\n",
              " 'home': 51,\n",
              " 'england': 52,\n",
              " 'going': 53,\n",
              " 'still': 54,\n",
              " 'show': 55,\n",
              " 'much': 56,\n",
              " 'work': 57,\n",
              " 'games': 58,\n",
              " 'party': 59,\n",
              " 'blair': 60,\n",
              " 'firm': 61,\n",
              " 'go': 62,\n",
              " 'top': 63,\n",
              " 'think': 64,\n",
              " 'since': 65,\n",
              " 'second': 66,\n",
              " 'win': 67,\n",
              " '6': 68,\n",
              " 'say': 69,\n",
              " 'million': 70,\n",
              " 'use': 71,\n",
              " 'public': 72,\n",
              " 'part': 73,\n",
              " 'week': 74,\n",
              " 'want': 75,\n",
              " 'minister': 76,\n",
              " 'play': 77,\n",
              " 'mobile': 78,\n",
              " 'technology': 79,\n",
              " 'see': 80,\n",
              " 'five': 81,\n",
              " 'european': 82,\n",
              " '10': 83,\n",
              " 'high': 84,\n",
              " '3': 85,\n",
              " 'used': 86,\n",
              " 'british': 87,\n",
              " 'end': 88,\n",
              " 'sales': 89,\n",
              " 'players': 90,\n",
              " 'tv': 91,\n",
              " 'expected': 92,\n",
              " 'however': 93,\n",
              " 'news': 94,\n",
              " 'country': 95,\n",
              " '4': 96,\n",
              " 'even': 97,\n",
              " 'brown': 98,\n",
              " 'plans': 99,\n",
              " 'group': 100,\n",
              " 'six': 101,\n",
              " 'months': 102,\n",
              " 'come': 103,\n",
              " 'britain': 104,\n",
              " 'old': 105,\n",
              " 'four': 106,\n",
              " '5': 107,\n",
              " 'growth': 108,\n",
              " 'already': 109,\n",
              " 'half': 110,\n",
              " 'put': 111,\n",
              " 'chief': 112,\n",
              " 'money': 113,\n",
              " '2005': 114,\n",
              " 'day': 115,\n",
              " 'services': 116,\n",
              " 'service': 117,\n",
              " 'london': 118,\n",
              " 'tax': 119,\n",
              " 'economy': 120,\n",
              " 'director': 121,\n",
              " 'industry': 122,\n",
              " 'digital': 123,\n",
              " 'former': 124,\n",
              " 'system': 125,\n",
              " 'companies': 126,\n",
              " 'net': 127,\n",
              " 'based': 128,\n",
              " 'deal': 129,\n",
              " 'long': 130,\n",
              " 'month': 131,\n",
              " 'europe': 132,\n",
              " 'according': 133,\n",
              " 'place': 134,\n",
              " 'right': 135,\n",
              " 'need': 136,\n",
              " 'record': 137,\n",
              " 'firms': 138,\n",
              " 'great': 139,\n",
              " 'report': 140,\n",
              " 'business': 141,\n",
              " 'move': 142,\n",
              " 'help': 143,\n",
              " 'software': 144,\n",
              " 'around': 145,\n",
              " 'team': 146,\n",
              " '2003': 147,\n",
              " 'club': 148,\n",
              " 'bank': 149,\n",
              " 'big': 150,\n",
              " 'including': 151,\n",
              " 'third': 152,\n",
              " 'really': 153,\n",
              " 'users': 154,\n",
              " 'phone': 155,\n",
              " 'another': 156,\n",
              " 'international': 157,\n",
              " 'got': 158,\n",
              " 'called': 159,\n",
              " 'general': 160,\n",
              " 'hit': 161,\n",
              " 'wales': 162,\n",
              " 'up': 163,\n",
              " 'life': 164,\n",
              " 'economic': 165,\n",
              " 'better': 166,\n",
              " 'took': 167,\n",
              " 'came': 168,\n",
              " '7': 169,\n",
              " 'future': 170,\n",
              " 'spokesman': 171,\n",
              " 'know': 172,\n",
              " 'howard': 173,\n",
              " 'president': 174,\n",
              " 'computer': 175,\n",
              " 'online': 176,\n",
              " 'open': 177,\n",
              " 'radio': 178,\n",
              " 'office': 179,\n",
              " 'final': 180,\n",
              " 'ireland': 181,\n",
              " 'video': 182,\n",
              " 'information': 183,\n",
              " 'real': 184,\n",
              " 'start': 185,\n",
              " 'without': 186,\n",
              " 'law': 187,\n",
              " 'united': 188,\n",
              " 'action': 189,\n",
              " 'side': 190,\n",
              " 'state': 191,\n",
              " 'found': 192,\n",
              " 'france': 193,\n",
              " 'figures': 194,\n",
              " 'campaign': 195,\n",
              " 'likely': 196,\n",
              " 'court': 197,\n",
              " 'saying': 198,\n",
              " 'lot': 199,\n",
              " 'give': 200,\n",
              " 'despite': 201,\n",
              " 'run': 202,\n",
              " 'player': 203,\n",
              " 'seen': 204,\n",
              " 'data': 205,\n",
              " 'decision': 206,\n",
              " 'making': 207,\n",
              " 'prime': 208,\n",
              " 'awards': 209,\n",
              " 'national': 210,\n",
              " 'rise': 211,\n",
              " 'given': 212,\n",
              " 'far': 213,\n",
              " 'offer': 214,\n",
              " 'december': 215,\n",
              " 'able': 216,\n",
              " 'media': 217,\n",
              " 'china': 218,\n",
              " 'countries': 219,\n",
              " 'using': 220,\n",
              " 'january': 221,\n",
              " 'although': 222,\n",
              " 'biggest': 223,\n",
              " 'executive': 224,\n",
              " 'every': 225,\n",
              " 'earlier': 226,\n",
              " 'house': 227,\n",
              " 'match': 228,\n",
              " 'it': 229,\n",
              " 'times': 230,\n",
              " 'nations': 231,\n",
              " 'secretary': 232,\n",
              " 'away': 233,\n",
              " 'pay': 234,\n",
              " 'cost': 235,\n",
              " 'internet': 236,\n",
              " 'star': 237,\n",
              " 'cup': 238,\n",
              " 'cut': 239,\n",
              " 'playing': 240,\n",
              " 'security': 241,\n",
              " 'oil': 242,\n",
              " 'never': 243,\n",
              " 'interest': 244,\n",
              " 'lord': 245,\n",
              " 'man': 246,\n",
              " 'shares': 247,\n",
              " 'role': 248,\n",
              " 'less': 249,\n",
              " 'look': 250,\n",
              " 'become': 251,\n",
              " 'anti': 252,\n",
              " 'legal': 253,\n",
              " 'line': 254,\n",
              " 'case': 255,\n",
              " 'award': 256,\n",
              " 'research': 257,\n",
              " '20': 258,\n",
              " 'lost': 259,\n",
              " 'hard': 260,\n",
              " 'children': 261,\n",
              " 'foreign': 262,\n",
              " 'taking': 263,\n",
              " 'prices': 264,\n",
              " 'local': 265,\n",
              " 'recent': 266,\n",
              " 'whether': 267,\n",
              " 'chancellor': 268,\n",
              " 'strong': 269,\n",
              " 'believe': 270,\n",
              " 'later': 271,\n",
              " 'increase': 272,\n",
              " 'past': 273,\n",
              " 'early': 274,\n",
              " 'control': 275,\n",
              " 'played': 276,\n",
              " 'eu': 277,\n",
              " 'support': 278,\n",
              " 'bill': 279,\n",
              " 'change': 280,\n",
              " 'working': 281,\n",
              " 'little': 282,\n",
              " 'current': 283,\n",
              " 'face': 284,\n",
              " 'spending': 285,\n",
              " 'due': 286,\n",
              " '12': 287,\n",
              " 'different': 288,\n",
              " 'access': 289,\n",
              " 'michael': 290,\n",
              " 'leader': 291,\n",
              " 'e': 292,\n",
              " 'must': 293,\n",
              " 'season': 294,\n",
              " 'major': 295,\n",
              " 'tory': 296,\n",
              " 'important': 297,\n",
              " 'ahead': 298,\n",
              " 'microsoft': 299,\n",
              " 'days': 300,\n",
              " 'broadband': 301,\n",
              " 'announced': 302,\n",
              " 'thought': 303,\n",
              " 'went': 304,\n",
              " 'david': 305,\n",
              " 'looking': 306,\n",
              " 'trade': 307,\n",
              " 'films': 308,\n",
              " 'financial': 309,\n",
              " 'analysts': 310,\n",
              " 'quarter': 311,\n",
              " 'following': 312,\n",
              " 'free': 313,\n",
              " 'key': 314,\n",
              " 'full': 315,\n",
              " 'left': 316,\n",
              " 'latest': 317,\n",
              " 'john': 318,\n",
              " 'women': 319,\n",
              " 'scotland': 320,\n",
              " 'jobs': 321,\n",
              " 'issue': 322,\n",
              " 'yet': 323,\n",
              " 'among': 324,\n",
              " 'rate': 325,\n",
              " 'sale': 326,\n",
              " 'tories': 327,\n",
              " '0': 328,\n",
              " 'currently': 329,\n",
              " 'power': 330,\n",
              " 'return': 331,\n",
              " 'sunday': 332,\n",
              " 'find': 333,\n",
              " 'ever': 334,\n",
              " 'south': 335,\n",
              " 'meeting': 336,\n",
              " 'series': 337,\n",
              " 'rights': 338,\n",
              " 'always': 339,\n",
              " 'budget': 340,\n",
              " 'things': 341,\n",
              " 'held': 342,\n",
              " 'taken': 343,\n",
              " 'something': 344,\n",
              " 'low': 345,\n",
              " 'share': 346,\n",
              " 'winning': 347,\n",
              " 'march': 348,\n",
              " 'try': 349,\n",
              " 'phones': 350,\n",
              " 'coach': 351,\n",
              " 'dollar': 352,\n",
              " 'might': 353,\n",
              " 'almost': 354,\n",
              " 'programme': 355,\n",
              " 'police': 356,\n",
              " 'keep': 357,\n",
              " 'network': 358,\n",
              " 'chance': 359,\n",
              " 'problems': 360,\n",
              " 'enough': 361,\n",
              " 'demand': 362,\n",
              " 'chairman': 363,\n",
              " 'personal': 364,\n",
              " 'rather': 365,\n",
              " '8': 366,\n",
              " 'problem': 367,\n",
              " 'job': 368,\n",
              " '11': 369,\n",
              " 'website': 370,\n",
              " 'tony': 371,\n",
              " 'behind': 372,\n",
              " 'across': 373,\n",
              " 'statement': 374,\n",
              " '30': 375,\n",
              " 'needed': 376,\n",
              " 'content': 377,\n",
              " 'performance': 378,\n",
              " '50': 379,\n",
              " 'done': 380,\n",
              " 'claims': 381,\n",
              " 'american': 382,\n",
              " 'search': 383,\n",
              " 'young': 384,\n",
              " 'point': 385,\n",
              " 'ms': 386,\n",
              " 'term': 387,\n",
              " 'band': 388,\n",
              " 'include': 389,\n",
              " 'clear': 390,\n",
              " 'fans': 391,\n",
              " 'november': 392,\n",
              " 'ago': 393,\n",
              " 'india': 394,\n",
              " 'available': 395,\n",
              " 'sold': 396,\n",
              " 'williams': 397,\n",
              " 'warned': 398,\n",
              " 'within': 399,\n",
              " 'wednesday': 400,\n",
              " '25': 401,\n",
              " 'political': 402,\n",
              " 'costs': 403,\n",
              " 'title': 404,\n",
              " 'manager': 405,\n",
              " 'victory': 406,\n",
              " 'today': 407,\n",
              " 'getting': 408,\n",
              " 'lead': 409,\n",
              " 'continue': 410,\n",
              " 'chelsea': 411,\n",
              " 'injury': 412,\n",
              " 'means': 413,\n",
              " 'head': 414,\n",
              " 'plan': 415,\n",
              " '18': 416,\n",
              " 'consumer': 417,\n",
              " 'thing': 418,\n",
              " 'february': 419,\n",
              " 'issues': 420,\n",
              " 'released': 421,\n",
              " 'mark': 422,\n",
              " 'tuesday': 423,\n",
              " 'men': 424,\n",
              " 'result': 425,\n",
              " 'monday': 426,\n",
              " 'war': 427,\n",
              " 'coming': 428,\n",
              " 'main': 429,\n",
              " 'mail': 430,\n",
              " '9': 431,\n",
              " 'list': 432,\n",
              " 'least': 433,\n",
              " 'act': 434,\n",
              " 'allow': 435,\n",
              " 'council': 436,\n",
              " 'centre': 437,\n",
              " 'global': 438,\n",
              " 'song': 439,\n",
              " 'huge': 440,\n",
              " 'saturday': 441,\n",
              " 'rates': 442,\n",
              " 'price': 443,\n",
              " 'running': 444,\n",
              " 'hold': 445,\n",
              " 'buy': 446,\n",
              " 'union': 447,\n",
              " 'investment': 448,\n",
              " 'members': 449,\n",
              " '2001': 450,\n",
              " 'health': 451,\n",
              " 'weeks': 452,\n",
              " 'form': 453,\n",
              " 'apple': 454,\n",
              " 'possible': 455,\n",
              " 'policy': 456,\n",
              " 'level': 457,\n",
              " 'league': 458,\n",
              " 'known': 459,\n",
              " 'wanted': 460,\n",
              " 'sony': 461,\n",
              " '15': 462,\n",
              " 'showed': 463,\n",
              " 'football': 464,\n",
              " 'competition': 465,\n",
              " 'career': 466,\n",
              " 'bid': 467,\n",
              " 'site': 468,\n",
              " 'mps': 469,\n",
              " 'let': 470,\n",
              " 'rugby': 471,\n",
              " 'beat': 472,\n",
              " 'small': 473,\n",
              " 'several': 474,\n",
              " 'higher': 475,\n",
              " 'success': 476,\n",
              " 'minutes': 477,\n",
              " 'pc': 478,\n",
              " 'liberal': 479,\n",
              " 'commission': 480,\n",
              " 'total': 481,\n",
              " 'york': 482,\n",
              " 'asked': 483,\n",
              " 'sir': 484,\n",
              " 'friday': 485,\n",
              " 'yukos': 486,\n",
              " 'production': 487,\n",
              " 'hope': 488,\n",
              " 'development': 489,\n",
              " 'japan': 490,\n",
              " 'recently': 491,\n",
              " 'reported': 492,\n",
              " 'version': 493,\n",
              " 'actor': 494,\n",
              " 'trying': 495,\n",
              " '100': 496,\n",
              " 'networks': 497,\n",
              " 'close': 498,\n",
              " 'jones': 499,\n",
              " 'vote': 500,\n",
              " 'agreed': 501,\n",
              " 'lib': 502,\n",
              " 'failed': 503,\n",
              " 'consumers': 504,\n",
              " 'comes': 505,\n",
              " 'race': 506,\n",
              " 'sites': 507,\n",
              " 'cash': 508,\n",
              " 'committee': 509,\n",
              " 'profits': 510,\n",
              " 'reports': 511,\n",
              " 'live': 512,\n",
              " 'customers': 513,\n",
              " 'city': 514,\n",
              " 'parties': 515,\n",
              " 'october': 516,\n",
              " 'wants': 517,\n",
              " 'short': 518,\n",
              " 'popular': 519,\n",
              " 'rose': 520,\n",
              " 'single': 521,\n",
              " 'parliament': 522,\n",
              " 'previous': 523,\n",
              " 'french': 524,\n",
              " 'human': 525,\n",
              " 'summer': 526,\n",
              " 'september': 527,\n",
              " 'saw': 528,\n",
              " 'fourth': 529,\n",
              " 'champion': 530,\n",
              " 'christmas': 531,\n",
              " 'call': 532,\n",
              " 'web': 533,\n",
              " 'shows': 534,\n",
              " 'thursday': 535,\n",
              " 'forward': 536,\n",
              " 'though': 537,\n",
              " 'event': 538,\n",
              " 'eight': 539,\n",
              " 'sport': 540,\n",
              " 'annual': 541,\n",
              " 'gaming': 542,\n",
              " 'evidence': 543,\n",
              " 'trial': 544,\n",
              " 'stop': 545,\n",
              " 'rules': 546,\n",
              " 'age': 547,\n",
              " 'prize': 548,\n",
              " 'them': 549,\n",
              " 'difficult': 550,\n",
              " 'education': 551,\n",
              " 'led': 552,\n",
              " 'russian': 553,\n",
              " 'album': 554,\n",
              " 'ministers': 555,\n",
              " 'sure': 556,\n",
              " 'italy': 557,\n",
              " 'stock': 558,\n",
              " 'fall': 559,\n",
              " 'name': 560,\n",
              " 'calls': 561,\n",
              " 'nothing': 562,\n",
              " 'book': 563,\n",
              " 'others': 564,\n",
              " 'test': 565,\n",
              " 'feel': 566,\n",
              " 'claim': 567,\n",
              " 'liverpool': 568,\n",
              " 'charles': 569,\n",
              " 'meet': 570,\n",
              " 'on': 571,\n",
              " 'television': 572,\n",
              " 'project': 573,\n",
              " 'iraq': 574,\n",
              " 'boss': 575,\n",
              " 'aid': 576,\n",
              " 'growing': 577,\n",
              " 'paid': 578,\n",
              " 'out': 579,\n",
              " 'giant': 580,\n",
              " 'devices': 581,\n",
              " 'box': 582,\n",
              " 'boost': 583,\n",
              " 'board': 584,\n",
              " 'choice': 585,\n",
              " 'results': 586,\n",
              " 'tour': 587,\n",
              " 'movie': 588,\n",
              " 'instead': 589,\n",
              " '2002': 590,\n",
              " 'africa': 591,\n",
              " 'mean': 592,\n",
              " 'together': 593,\n",
              " 'points': 594,\n",
              " 'launch': 595,\n",
              " 'needs': 596,\n",
              " 'paul': 597,\n",
              " 'dr': 598,\n",
              " 'co': 599,\n",
              " 'senior': 600,\n",
              " 'cannot': 601,\n",
              " 'fact': 602,\n",
              " 'fell': 603,\n",
              " 'to': 604,\n",
              " 'attacks': 605,\n",
              " 'manchester': 606,\n",
              " 'simply': 607,\n",
              " 'late': 608,\n",
              " 'order': 609,\n",
              " 'arsenal': 610,\n",
              " 'school': 611,\n",
              " '17': 612,\n",
              " 'idea': 613,\n",
              " 'olympic': 614,\n",
              " 'love': 615,\n",
              " 'remain': 616,\n",
              " 'accused': 617,\n",
              " 'break': 618,\n",
              " '16': 619,\n",
              " 'similar': 620,\n",
              " 'family': 621,\n",
              " 'hopes': 622,\n",
              " 'black': 623,\n",
              " 'conservative': 624,\n",
              " 'create': 625,\n",
              " 'products': 626,\n",
              " 'irish': 627,\n",
              " 'euros': 628,\n",
              " 'debt': 629,\n",
              " 'weekend': 630,\n",
              " 'largest': 631,\n",
              " 'seven': 632,\n",
              " 'whole': 633,\n",
              " 'denied': 634,\n",
              " 'hours': 635,\n",
              " 'round': 636,\n",
              " 'association': 637,\n",
              " 'actress': 638,\n",
              " 'turn': 639,\n",
              " 'car': 640,\n",
              " 'received': 641,\n",
              " 'in': 642,\n",
              " 'gordon': 643,\n",
              " 'provide': 644,\n",
              " 'chart': 645,\n",
              " 'large': 646,\n",
              " 'oscar': 647,\n",
              " 'ensure': 648,\n",
              " 'value': 649,\n",
              " 'date': 650,\n",
              " '40': 651,\n",
              " 'bt': 652,\n",
              " 'virus': 653,\n",
              " 'launched': 654,\n",
              " 'range': 655,\n",
              " 'involved': 656,\n",
              " 'bit': 657,\n",
              " 'changes': 658,\n",
              " 'anything': 659,\n",
              " 'proposals': 660,\n",
              " 'voters': 661,\n",
              " 'pre': 662,\n",
              " 'per': 663,\n",
              " 'potential': 664,\n",
              " 'position': 665,\n",
              " 'believes': 666,\n",
              " 'stand': 667,\n",
              " 'claimed': 668,\n",
              " 'entertainment': 669,\n",
              " 'systems': 670,\n",
              " 'stars': 671,\n",
              " 'wrong': 672,\n",
              " 'leading': 673,\n",
              " 'started': 674,\n",
              " 'fight': 675,\n",
              " 'special': 676,\n",
              " 'exchange': 677,\n",
              " 'taxes': 678,\n",
              " 'university': 679,\n",
              " 'helped': 680,\n",
              " 'period': 681,\n",
              " 'worked': 682,\n",
              " 'immigration': 683,\n",
              " 'conference': 684,\n",
              " 'release': 685,\n",
              " '13': 686,\n",
              " 'download': 687,\n",
              " 'makes': 688,\n",
              " 'included': 689,\n",
              " 'cards': 690,\n",
              " 'germany': 691,\n",
              " '24': 692,\n",
              " 'bring': 693,\n",
              " 'singer': 694,\n",
              " '14': 695,\n",
              " 'survey': 696,\n",
              " 'street': 697,\n",
              " 'pressure': 698,\n",
              " 'workers': 699,\n",
              " 'sent': 700,\n",
              " 'festival': 701,\n",
              " 'appeal': 702,\n",
              " 'drugs': 703,\n",
              " 'cuts': 704,\n",
              " 'everyone': 705,\n",
              " 'night': 706,\n",
              " 'average': 707,\n",
              " 'talks': 708,\n",
              " 'stage': 709,\n",
              " 'attack': 710,\n",
              " '2000': 711,\n",
              " 'admitted': 712,\n",
              " 'compared': 713,\n",
              " 'community': 714,\n",
              " 'groups': 715,\n",
              " 'officials': 716,\n",
              " 'kennedy': 717,\n",
              " 'squad': 718,\n",
              " 'history': 719,\n",
              " 'v': 720,\n",
              " 'agency': 721,\n",
              " 'davis': 722,\n",
              " 'original': 723,\n",
              " 'brought': 724,\n",
              " 'ban': 725,\n",
              " 'quite': 726,\n",
              " 'official': 727,\n",
              " 'numbers': 728,\n",
              " 'australian': 729,\n",
              " 'opening': 730,\n",
              " 'russia': 731,\n",
              " 're': 732,\n",
              " 'standard': 733,\n",
              " 'view': 734,\n",
              " 'robinson': 735,\n",
              " 'grand': 736,\n",
              " 'spend': 737,\n",
              " 'comments': 738,\n",
              " 'training': 739,\n",
              " 'goal': 740,\n",
              " 'speed': 741,\n",
              " 'sell': 742,\n",
              " 'force': 743,\n",
              " 'german': 744,\n",
              " 'either': 745,\n",
              " 'file': 746,\n",
              " 'decided': 747,\n",
              " 'gave': 748,\n",
              " 'moment': 749,\n",
              " 'target': 750,\n",
              " 'sector': 751,\n",
              " 'turned': 752,\n",
              " 'audience': 753,\n",
              " 'drive': 754,\n",
              " 'independent': 755,\n",
              " 'june': 756,\n",
              " 'off': 757,\n",
              " 'forced': 758,\n",
              " 'everything': 759,\n",
              " 'authorities': 760,\n",
              " 'smith': 761,\n",
              " 'civil': 762,\n",
              " 'west': 763,\n",
              " 'spam': 764,\n",
              " 'mobiles': 765,\n",
              " 'meanwhile': 766,\n",
              " 'states': 767,\n",
              " 'area': 768,\n",
              " 'america': 769,\n",
              " 'process': 770,\n",
              " 'front': 771,\n",
              " 'spent': 772,\n",
              " 'named': 773,\n",
              " 'course': 774,\n",
              " 'poor': 775,\n",
              " 'staff': 776,\n",
              " 'revealed': 777,\n",
              " 'created': 778,\n",
              " 'bush': 779,\n",
              " 'happy': 780,\n",
              " 'energy': 781,\n",
              " 'press': 782,\n",
              " 'amount': 783,\n",
              " 'dvd': 784,\n",
              " 'comedy': 785,\n",
              " 'outside': 786,\n",
              " 'areas': 787,\n",
              " 'step': 788,\n",
              " '2006': 789,\n",
              " 'investors': 790,\n",
              " 'double': 791,\n",
              " 'extra': 792,\n",
              " 'euro': 793,\n",
              " 'focus': 794,\n",
              " 'newspaper': 795,\n",
              " 'rock': 796,\n",
              " 'windows': 797,\n",
              " 'fraud': 798,\n",
              " 'indian': 799,\n",
              " 'impact': 800,\n",
              " 'martin': 801,\n",
              " 'looked': 802,\n",
              " 'battle': 803,\n",
              " 'speech': 804,\n",
              " 'opportunity': 805,\n",
              " 'device': 806,\n",
              " 'widely': 807,\n",
              " 'tough': 808,\n",
              " 'remains': 809,\n",
              " 'non': 810,\n",
              " 'lives': 811,\n",
              " 'card': 812,\n",
              " 'scottish': 813,\n",
              " 'commons': 814,\n",
              " 'particularly': 815,\n",
              " 'tsunami': 816,\n",
              " 'story': 817,\n",
              " 'shown': 818,\n",
              " 'laws': 819,\n",
              " 'majority': 820,\n",
              " 'confirmed': 821,\n",
              " 'screen': 822,\n",
              " 'lords': 823,\n",
              " 'gadget': 824,\n",
              " 'kilroy': 825,\n",
              " 'became': 826,\n",
              " 'winner': 827,\n",
              " 'concerned': 828,\n",
              " 'conservatives': 829,\n",
              " 'lower': 830,\n",
              " 'via': 831,\n",
              " 'challenge': 832,\n",
              " 'designed': 833,\n",
              " 'stay': 834,\n",
              " 'soon': 835,\n",
              " 'bought': 836,\n",
              " 'markets': 837,\n",
              " 'response': 838,\n",
              " 'charge': 839,\n",
              " 'member': 840,\n",
              " 'private': 841,\n",
              " 'whose': 842,\n",
              " 'increased': 843,\n",
              " 'details': 844,\n",
              " 'hand': 845,\n",
              " 'worth': 846,\n",
              " 'department': 847,\n",
              " 'crime': 848,\n",
              " 'message': 849,\n",
              " 'build': 850,\n",
              " 'signed': 851,\n",
              " 'credit': 852,\n",
              " 'terms': 853,\n",
              " 'pcs': 854,\n",
              " 'white': 855,\n",
              " 'that': 856,\n",
              " 'speaking': 857,\n",
              " 'ukip': 858,\n",
              " 'nine': 859,\n",
              " 'takes': 860,\n",
              " 'quality': 861,\n",
              " 'ways': 862,\n",
              " 'messages': 863,\n",
              " 'schools': 864,\n",
              " 'mp': 865,\n",
              " 'agreement': 866,\n",
              " 'row': 867,\n",
              " 'australia': 868,\n",
              " 'selling': 869,\n",
              " 'situation': 870,\n",
              " 'reached': 871,\n",
              " 'april': 872,\n",
              " 'fund': 873,\n",
              " 'offered': 874,\n",
              " 'winners': 875,\n",
              " 'debut': 876,\n",
              " 'care': 877,\n",
              " 'host': 878,\n",
              " 'generation': 879,\n",
              " 'charges': 880,\n",
              " 'watch': 881,\n",
              " 'bad': 882,\n",
              " 'experience': 883,\n",
              " 'central': 884,\n",
              " 'google': 885,\n",
              " 'trust': 886,\n",
              " 'gone': 887,\n",
              " 'james': 888,\n",
              " 'raise': 889,\n",
              " 'websites': 890,\n",
              " 'robert': 891,\n",
              " 'all': 892,\n",
              " 'english': 893,\n",
              " 'concerns': 894,\n",
              " 'alan': 895,\n",
              " 'easy': 896,\n",
              " 'andy': 897,\n",
              " 'johnson': 898,\n",
              " 'analyst': 899,\n",
              " 'air': 900,\n",
              " 'kelly': 901,\n",
              " 'files': 902,\n",
              " 'mike': 903,\n",
              " 'north': 904,\n",
              " 'body': 905,\n",
              " 'often': 906,\n",
              " 'fast': 907,\n",
              " 'debate': 908,\n",
              " 'premiership': 909,\n",
              " 'probably': 910,\n",
              " 'levels': 911,\n",
              " 'light': 912,\n",
              " 'positive': 913,\n",
              " 'management': 914,\n",
              " 'protection': 915,\n",
              " 'example': 916,\n",
              " 'bankruptcy': 917,\n",
              " 'society': 918,\n",
              " 'risk': 919,\n",
              " 'millions': 920,\n",
              " 'silk': 921,\n",
              " 'defence': 922,\n",
              " 'madrid': 923,\n",
              " 'talk': 924,\n",
              " 'cross': 925,\n",
              " 'social': 926,\n",
              " 'death': 927,\n",
              " 'so': 928,\n",
              " 'previously': 929,\n",
              " 'unit': 930,\n",
              " 'poll': 931,\n",
              " 'musical': 932,\n",
              " 'finance': 933,\n",
              " 'blunkett': 934,\n",
              " 'pop': 935,\n",
              " 'nearly': 936,\n",
              " 'insisted': 937,\n",
              " 'anyone': 938,\n",
              " 'captain': 939,\n",
              " 'banks': 940,\n",
              " 'him': 941,\n",
              " 'illegal': 942,\n",
              " 'becoming': 943,\n",
              " 'judge': 944,\n",
              " 'profit': 945,\n",
              " 'ball': 946,\n",
              " 'believed': 947,\n",
              " 'east': 948,\n",
              " 'longer': 949,\n",
              " 'champions': 950,\n",
              " 'hour': 951,\n",
              " 'operating': 952,\n",
              " 'measures': 953,\n",
              " 'asylum': 954,\n",
              " 'along': 955,\n",
              " 'reach': 956,\n",
              " 'felt': 957,\n",
              " 'individual': 958,\n",
              " 'aviator': 959,\n",
              " 'peer': 960,\n",
              " 'keen': 961,\n",
              " 'allowed': 962,\n",
              " 'moved': 963,\n",
              " 'matter': 964,\n",
              " 'argued': 965,\n",
              " 'confidence': 966,\n",
              " 'significant': 967,\n",
              " 'gadgets': 968,\n",
              " 'account': 969,\n",
              " 'machine': 970,\n",
              " 'theatre': 971,\n",
              " 'nominated': 972,\n",
              " 'figure': 973,\n",
              " 'channel': 974,\n",
              " 'income': 975,\n",
              " '27': 976,\n",
              " 'politics': 977,\n",
              " 'met': 978,\n",
              " 'thousands': 979,\n",
              " 'technologies': 980,\n",
              " 'critics': 981,\n",
              " 'suggested': 982,\n",
              " 'giving': 983,\n",
              " 'affected': 984,\n",
              " 'hollywood': 985,\n",
              " 'computers': 986,\n",
              " 'songs': 987,\n",
              " 'field': 988,\n",
              " 'ask': 989,\n",
              " 'dems': 990,\n",
              " '19': 991,\n",
              " 'track': 992,\n",
              " 'programs': 993,\n",
              " 'expect': 994,\n",
              " 'democrats': 995,\n",
              " 'picture': 996,\n",
              " 'ceremony': 997,\n",
              " 'cabinet': 998,\n",
              " 'businesses': 999,\n",
              " 'shot': 1000,\n",
              " ...}"
            ]
          },
          "execution_count": 17,
          "metadata": {},
          "output_type": "execute_result"
        }
      ],
      "source": [
        "tokenizer.word_index"
      ]
    },
    {
      "cell_type": "markdown",
      "metadata": {
        "id": "vFi6Y0QmNj4w"
      },
      "source": [
        "# Convert words to number"
      ]
    },
    {
      "cell_type": "code",
      "execution_count": 18,
      "metadata": {
        "id": "JOAdsFtCNj4x"
      },
      "outputs": [],
      "source": [
        "train_seq = tokenizer.texts_to_sequences(X_train)"
      ]
    },
    {
      "cell_type": "markdown",
      "metadata": {
        "id": "iU77pCDCNj4x"
      },
      "source": [
        "# Let's see if text_to_sequence makes sense"
      ]
    },
    {
      "cell_type": "code",
      "execution_count": 19,
      "metadata": {
        "colab": {
          "base_uri": "https://localhost:8080/",
          "height": 157
        },
        "id": "HMUR8QcKNj4x",
        "outputId": "84fb2005-e6ae-47e1-ac1b-8c7dc7d6fe54"
      },
      "outputs": [
        {
          "data": {
            "application/vnd.google.colaboratory.intrinsic+json": {
              "type": "string"
            },
            "text/plain": [
              "'lewis-francis turns christie mark lewis-francis stepped preparations new season taking advice british sprint icon linford christie. 22-year-old set compete sheffield weekend take maurice greene kim collins birmingham 18 february. training wales getting advice linford christie broadening mind said lewis-francis. sprinter also shed weight since winning relay gold athens games. last year 91kg 86.9kg - hopefully times come said. brought eating right foods cutting snacks. discipline focused doing. still keeping weights work see improvement running. despite playing part britain successful 4x100m relay team lewis-francis still feels frustration missing individual 100m final 2004 olympics. heartbreaking made semi-final personal level achievement. patient build next olympics. goal whatever geared making final.'"
            ]
          },
          "execution_count": 19,
          "metadata": {},
          "output_type": "execute_result"
        }
      ],
      "source": [
        "X_train[10]"
      ]
    },
    {
      "cell_type": "code",
      "execution_count": 21,
      "metadata": {
        "colab": {
          "base_uri": "https://localhost:8080/"
        },
        "id": "uJRYALAeNj4x",
        "outputId": "f24ca91e-089a-4512-9a63-203cc9fcfa3b"
      },
      "outputs": [
        {
          "name": "stdout",
          "output_type": "stream",
          "text": [
            "[1821, 3363, 3238, 1, 422, 1821, 3363, 2482, 1, 8, 294, 263, 1411, 87, 4276, 4483, 1, 1, 1066, 5, 105, 36, 1229, 1895, 630, 42, 1, 4725, 2760, 1718, 1523, 416, 419, 739, 162, 408, 1411, 1, 1, 1, 1186, 2, 1821, 3363, 3239, 6, 1, 3629, 65, 347, 3030, 1319, 1003, 58, 12, 5, 1, 1, 1, 1935, 230, 103, 2, 724, 4097, 135, 1, 1392, 1, 2928, 2055, 1, 54, 2105, 1, 57, 80, 2699, 444, 201, 240, 73, 104, 1025, 1, 3030, 146, 1821, 3363, 54, 2483, 1, 1320, 958, 2242, 180, 49, 1566, 1, 27, 2153, 180, 364, 457, 2547, 1, 850, 41, 1566, 740, 2617, 1, 207, 180]\n"
          ]
        }
      ],
      "source": [
        "print(train_seq[10])"
      ]
    },
    {
      "cell_type": "code",
      "execution_count": 22,
      "metadata": {
        "colab": {
          "base_uri": "https://localhost:8080/"
        },
        "id": "4VLvmg6sdiwO",
        "outputId": "79ced4d8-240b-427f-a269-443b99158fc6"
      },
      "outputs": [
        {
          "data": {
            "text/plain": [
              "114"
            ]
          },
          "execution_count": 22,
          "metadata": {},
          "output_type": "execute_result"
        }
      ],
      "source": [
        "len(train_seq[10])"
      ]
    },
    {
      "cell_type": "code",
      "execution_count": 23,
      "metadata": {
        "colab": {
          "base_uri": "https://localhost:8080/"
        },
        "id": "EqjJ9dKBdioR",
        "outputId": "80154805-7d47-4d72-fdfa-3333ef749ce4"
      },
      "outputs": [
        {
          "data": {
            "text/plain": [
              "317"
            ]
          },
          "execution_count": 23,
          "metadata": {},
          "output_type": "execute_result"
        }
      ],
      "source": [
        "len(train_seq[25])"
      ]
    },
    {
      "cell_type": "markdown",
      "metadata": {
        "id": "fAnSGmGxNj4x"
      },
      "source": [
        "# Let's do padding"
      ]
    },
    {
      "cell_type": "markdown",
      "metadata": {
        "id": "qEO6TIr6Nj4x"
      },
      "source": [
        "When we train neural networks for NLP, we need sequences to be in the same size, that’s why we use padding."
      ]
    },
    {
      "cell_type": "code",
      "execution_count": 24,
      "metadata": {
        "id": "yIRxSmTUNj4x"
      },
      "outputs": [],
      "source": [
        "train_padded = pad_sequences(train_seq, maxlen = max_length, padding = padding_type, truncating = trunc_type)"
      ]
    },
    {
      "cell_type": "code",
      "execution_count": 25,
      "metadata": {
        "colab": {
          "base_uri": "https://localhost:8080/"
        },
        "id": "QhdKPTqRNj4x",
        "outputId": "6b4ab662-cf7a-417d-8ae3-fb645fb60c59"
      },
      "outputs": [
        {
          "data": {
            "text/plain": [
              "200"
            ]
          },
          "execution_count": 25,
          "metadata": {},
          "output_type": "execute_result"
        }
      ],
      "source": [
        "len(train_padded[10])"
      ]
    },
    {
      "cell_type": "code",
      "execution_count": 26,
      "metadata": {
        "colab": {
          "base_uri": "https://localhost:8080/"
        },
        "id": "jYSExtNPeVlo",
        "outputId": "48ae1e9f-7c78-4245-b322-802e9c1a0840"
      },
      "outputs": [
        {
          "data": {
            "text/plain": [
              "array([1821, 3363, 3238,    1,  422, 1821, 3363, 2482,    1,    8,  294,\n",
              "        263, 1411,   87, 4276, 4483,    1,    1, 1066,    5,  105,   36,\n",
              "       1229, 1895,  630,   42,    1, 4725, 2760, 1718, 1523,  416,  419,\n",
              "        739,  162,  408, 1411,    1,    1,    1, 1186,    2, 1821, 3363,\n",
              "       3239,    6,    1, 3629,   65,  347, 3030, 1319, 1003,   58,   12,\n",
              "          5,    1,    1,    1, 1935,  230,  103,    2,  724, 4097,  135,\n",
              "          1, 1392,    1, 2928, 2055,    1,   54, 2105,    1,   57,   80,\n",
              "       2699,  444,  201,  240,   73,  104, 1025,    1, 3030,  146, 1821,\n",
              "       3363,   54, 2483,    1, 1320,  958, 2242,  180,   49, 1566,    1,\n",
              "         27, 2153,  180,  364,  457, 2547,    1,  850,   41, 1566,  740,\n",
              "       2617,    1,  207,  180,    0,    0,    0,    0,    0,    0,    0,\n",
              "          0,    0,    0,    0,    0,    0,    0,    0,    0,    0,    0,\n",
              "          0,    0,    0,    0,    0,    0,    0,    0,    0,    0,    0,\n",
              "          0,    0,    0,    0,    0,    0,    0,    0,    0,    0,    0,\n",
              "          0,    0,    0,    0,    0,    0,    0,    0,    0,    0,    0,\n",
              "          0,    0,    0,    0,    0,    0,    0,    0,    0,    0,    0,\n",
              "          0,    0,    0,    0,    0,    0,    0,    0,    0,    0,    0,\n",
              "          0,    0,    0,    0,    0,    0,    0,    0,    0,    0,    0,\n",
              "          0,    0], dtype=int32)"
            ]
          },
          "execution_count": 26,
          "metadata": {},
          "output_type": "execute_result"
        }
      ],
      "source": [
        "train_padded[10]"
      ]
    },
    {
      "cell_type": "code",
      "execution_count": 28,
      "metadata": {
        "colab": {
          "base_uri": "https://localhost:8080/"
        },
        "id": "_DT6FTtUeVi2",
        "outputId": "c66f6a02-771f-4904-a99d-cdc3f1f74ea5"
      },
      "outputs": [
        {
          "data": {
            "text/plain": [
              "200"
            ]
          },
          "execution_count": 28,
          "metadata": {},
          "output_type": "execute_result"
        }
      ],
      "source": [
        "len(train_padded[25])"
      ]
    },
    {
      "cell_type": "code",
      "execution_count": 29,
      "metadata": {
        "id": "bGkrm7EheVeJ"
      },
      "outputs": [],
      "source": [
        "test_seq = tokenizer.texts_to_sequences(X_test)\n",
        "test_padded = pad_sequences(test_seq, maxlen = max_length, padding = padding_type, truncating = trunc_type)"
      ]
    },
    {
      "cell_type": "code",
      "execution_count": null,
      "metadata": {
        "id": "gJ7OIQupeVbk"
      },
      "outputs": [],
      "source": []
    },
    {
      "cell_type": "code",
      "execution_count": null,
      "metadata": {
        "id": "wpu1jO44eVY4"
      },
      "outputs": [],
      "source": []
    },
    {
      "cell_type": "code",
      "execution_count": null,
      "metadata": {
        "id": "SactCsKveVQV"
      },
      "outputs": [],
      "source": []
    },
    {
      "cell_type": "markdown",
      "metadata": {
        "id": "LqgrBnA-Nj4x"
      },
      "source": [
        "# Encode our labels"
      ]
    },
    {
      "cell_type": "code",
      "execution_count": 30,
      "metadata": {
        "id": "pGKjemR_Nj4y"
      },
      "outputs": [],
      "source": [
        "le = LabelEncoder()\n",
        "\n",
        "y_train = le.fit_transform(y_train)\n",
        "y_test = le.transform(y_test)"
      ]
    },
    {
      "cell_type": "code",
      "execution_count": 31,
      "metadata": {
        "colab": {
          "base_uri": "https://localhost:8080/"
        },
        "id": "kHLYkwmtfiH5",
        "outputId": "a153af2f-406d-4031-aaf2-64b5a65ffeb7"
      },
      "outputs": [
        {
          "data": {
            "text/plain": [
              "array([0, 3, 1, 2, 2])"
            ]
          },
          "execution_count": 31,
          "metadata": {},
          "output_type": "execute_result"
        }
      ],
      "source": [
        "y_train[:5]"
      ]
    },
    {
      "cell_type": "code",
      "execution_count": 32,
      "metadata": {
        "colab": {
          "base_uri": "https://localhost:8080/"
        },
        "id": "sxzYBukJfiE9",
        "outputId": "7b7d8d00-63a2-4851-c4a6-13a3e08511d4"
      },
      "outputs": [
        {
          "data": {
            "text/plain": [
              "array(['business', 'entertainment', 'politics', 'sport', 'tech'],\n",
              "      dtype='<U13')"
            ]
          },
          "execution_count": 32,
          "metadata": {},
          "output_type": "execute_result"
        }
      ],
      "source": [
        "le.classes_"
      ]
    },
    {
      "cell_type": "code",
      "execution_count": 33,
      "metadata": {
        "colab": {
          "base_uri": "https://localhost:8080/"
        },
        "id": "ohwYwYM4fiCE",
        "outputId": "6feffa47-929e-453d-9981-4ce498af7650"
      },
      "outputs": [
        {
          "data": {
            "text/plain": [
              "array(['business', 'tech', 'politics', 'politics', 'entertainment',\n",
              "       'tech', 'sport'], dtype='<U13')"
            ]
          },
          "execution_count": 33,
          "metadata": {},
          "output_type": "execute_result"
        }
      ],
      "source": [
        "le.inverse_transform([0, 4, 2, 2, 1, 4, 3])"
      ]
    },
    {
      "cell_type": "code",
      "execution_count": 34,
      "metadata": {
        "id": "7jLHevphfh6p"
      },
      "outputs": [],
      "source": [
        "y_train = to_categorical(y_train, 5)\n",
        "y_test = to_categorical(y_test, 5)"
      ]
    },
    {
      "cell_type": "code",
      "execution_count": 35,
      "metadata": {
        "colab": {
          "base_uri": "https://localhost:8080/"
        },
        "id": "gbo9vXSCgP47",
        "outputId": "a6561328-84ae-480f-9431-47fc2c32a892"
      },
      "outputs": [
        {
          "data": {
            "text/plain": [
              "array([[1., 0., 0., 0., 0.],\n",
              "       [0., 0., 0., 1., 0.],\n",
              "       [0., 1., 0., 0., 0.],\n",
              "       ...,\n",
              "       [0., 0., 0., 0., 1.],\n",
              "       [0., 0., 0., 1., 0.],\n",
              "       [0., 1., 0., 0., 0.]], dtype=float32)"
            ]
          },
          "execution_count": 35,
          "metadata": {},
          "output_type": "execute_result"
        }
      ],
      "source": [
        "y_train"
      ]
    },
    {
      "cell_type": "markdown",
      "metadata": {
        "id": "31PBiEnYNj4y"
      },
      "source": [
        "# Define our model"
      ]
    },
    {
      "cell_type": "code",
      "execution_count": 42,
      "metadata": {
        "id": "suv1zjipj1Km"
      },
      "outputs": [],
      "source": [
        "from tensorflow.keras.layers import Bidirectional"
      ]
    },
    {
      "cell_type": "code",
      "execution_count": 48,
      "metadata": {
        "colab": {
          "base_uri": "https://localhost:8080/"
        },
        "id": "5Iu_Bp23Nj4y",
        "outputId": "15cf559f-9572-4c51-d570-c09e9abc2d46"
      },
      "outputs": [
        {
          "name": "stdout",
          "output_type": "stream",
          "text": [
            "Model: \"sequential_6\"\n",
            "_________________________________________________________________\n",
            " Layer (type)                Output Shape              Param #   \n",
            "=================================================================\n",
            " embedding_6 (Embedding)     (None, 200, 64)           320000    \n",
            "                                                                 \n",
            " bidirectional_4 (Bidirecti  (None, 200, 128)          66048     \n",
            " onal)                                                           \n",
            "                                                                 \n",
            " bidirectional_5 (Bidirecti  (None, 64)                41216     \n",
            " onal)                                                           \n",
            "                                                                 \n",
            " dense_3 (Dense)             (None, 5)                 325       \n",
            "                                                                 \n",
            "=================================================================\n",
            "Total params: 427589 (1.63 MB)\n",
            "Trainable params: 427589 (1.63 MB)\n",
            "Non-trainable params: 0 (0.00 Byte)\n",
            "_________________________________________________________________\n"
          ]
        }
      ],
      "source": [
        "model = Sequential()\n",
        "model.add(Embedding(vocab_size, embedding_dim, input_length = max_length))\n",
        "model.add(Bidirectional(LSTM(64, return_sequences = True)))\n",
        "model.add(Bidirectional(LSTM(32)))\n",
        "model.add(Dense(5, activation = 'softmax'))\n",
        "\n",
        "model.summary()"
      ]
    },
    {
      "cell_type": "code",
      "execution_count": 49,
      "metadata": {
        "id": "0BYS1XyqipDR"
      },
      "outputs": [],
      "source": [
        "model.compile(loss = 'categorical_crossentropy', optimizer = 'adam', metrics = ['accuracy'])"
      ]
    },
    {
      "cell_type": "markdown",
      "metadata": {
        "id": "pV3yReWJNj4y"
      },
      "source": [
        "# Train our model"
      ]
    },
    {
      "cell_type": "code",
      "execution_count": 50,
      "metadata": {
        "colab": {
          "base_uri": "https://localhost:8080/"
        },
        "id": "ruk3COLMNj4y",
        "outputId": "cb0dee79-6739-425a-a7f4-5c3fbe4f2e73"
      },
      "outputs": [
        {
          "name": "stdout",
          "output_type": "stream",
          "text": [
            "Epoch 1/10\n",
            "7/7 [==============================] - 9s 394ms/step - loss: 1.5923 - accuracy: 0.2798 - val_loss: 1.5700 - val_accuracy: 0.3011\n",
            "Epoch 2/10\n",
            "7/7 [==============================] - 1s 182ms/step - loss: 1.5368 - accuracy: 0.3713 - val_loss: 1.5041 - val_accuracy: 0.4404\n",
            "Epoch 3/10\n",
            "7/7 [==============================] - 1s 214ms/step - loss: 1.3924 - accuracy: 0.4579 - val_loss: 1.1974 - val_accuracy: 0.5213\n",
            "Epoch 4/10\n",
            "7/7 [==============================] - 1s 120ms/step - loss: 0.9883 - accuracy: 0.6747 - val_loss: 0.8326 - val_accuracy: 0.6202\n",
            "Epoch 5/10\n",
            "7/7 [==============================] - 1s 155ms/step - loss: 0.7068 - accuracy: 0.7090 - val_loss: 0.6753 - val_accuracy: 0.7371\n",
            "Epoch 6/10\n",
            "7/7 [==============================] - 1s 102ms/step - loss: 0.5278 - accuracy: 0.8522 - val_loss: 0.5538 - val_accuracy: 0.8562\n",
            "Epoch 7/10\n",
            "7/7 [==============================] - 1s 124ms/step - loss: 0.3529 - accuracy: 0.9534 - val_loss: 0.3824 - val_accuracy: 0.9258\n",
            "Epoch 8/10\n",
            "7/7 [==============================] - 1s 89ms/step - loss: 0.2385 - accuracy: 0.9725 - val_loss: 0.3618 - val_accuracy: 0.8921\n",
            "Epoch 9/10\n",
            "7/7 [==============================] - 1s 102ms/step - loss: 0.1528 - accuracy: 0.9781 - val_loss: 0.3108 - val_accuracy: 0.9191\n",
            "Epoch 10/10\n",
            "7/7 [==============================] - 1s 105ms/step - loss: 0.1308 - accuracy: 0.9837 - val_loss: 0.2746 - val_accuracy: 0.9303\n"
          ]
        },
        {
          "data": {
            "text/plain": [
              "<keras.src.callbacks.History at 0x78932a1e57e0>"
            ]
          },
          "execution_count": 50,
          "metadata": {},
          "output_type": "execute_result"
        }
      ],
      "source": [
        "model.fit(train_padded, y_train, validation_data = (test_padded, y_test),\n",
        "          batch_size = 256, epochs = 10)"
      ]
    },
    {
      "cell_type": "markdown",
      "metadata": {
        "id": "LhmMwaIxNj4y"
      },
      "source": [
        "# Evaluate our model"
      ]
    },
    {
      "cell_type": "code",
      "execution_count": 53,
      "metadata": {
        "colab": {
          "base_uri": "https://localhost:8080/"
        },
        "id": "_uhsGKo1Nj4y",
        "outputId": "456e5db7-65c7-4268-af55-276b1954a655"
      },
      "outputs": [
        {
          "name": "stdout",
          "output_type": "stream",
          "text": [
            "14/14 [==============================] - 0s 27ms/step\n"
          ]
        }
      ],
      "source": [
        "pred = np.argmax(model.predict(test_padded), axis = 1)"
      ]
    },
    {
      "cell_type": "code",
      "execution_count": 54,
      "metadata": {
        "colab": {
          "base_uri": "https://localhost:8080/"
        },
        "id": "bwz5d9BUkz35",
        "outputId": "5c94e058-6e04-4903-8a89-f18df3d0957d"
      },
      "outputs": [
        {
          "data": {
            "text/plain": [
              "array([0, 0, 1, 0, 2, 3, 2, 2, 3, 2, 2, 1, 3, 2, 1, 0, 2, 4, 3, 1, 0, 4,\n",
              "       3, 3, 4, 3, 1, 2, 4, 3, 2, 2, 0, 3, 1, 3, 1, 4, 1, 3, 4, 2, 1, 3,\n",
              "       3, 1, 1, 0, 1, 2, 0, 2, 3, 0, 1, 3, 3, 3, 0, 4, 4, 0, 4, 0, 2, 4,\n",
              "       0, 4, 1, 3, 0, 2, 4, 4, 1, 0, 0, 2, 0, 3, 0, 4, 4, 0, 2, 2, 4, 3,\n",
              "       4, 2, 0, 4, 1, 3, 3, 3, 2, 2, 2, 0, 1, 0, 2, 4, 3, 1, 0, 3, 3, 3,\n",
              "       0, 2, 0, 1, 2, 0, 4, 0, 1, 1, 1, 4, 4, 3, 3, 2, 2, 3, 4, 2, 3, 3,\n",
              "       4, 4, 1, 1, 1, 3, 4, 0, 0, 2, 0, 3, 3, 1, 2, 4, 3, 1, 2, 2, 1, 3,\n",
              "       3, 3, 4, 3, 2, 3, 3, 3, 3, 3, 4, 0, 1, 0, 1, 0, 2, 1, 4, 3, 3, 2,\n",
              "       1, 4, 4, 0, 4, 3, 3, 1, 4, 3, 1, 0, 2, 3, 4, 2, 3, 0, 3, 1, 0, 4,\n",
              "       1, 2, 2, 1, 3, 3, 3, 2, 0, 2, 0, 0, 3, 1, 4, 1, 2, 1, 3, 3, 0, 4,\n",
              "       0, 3, 4, 4, 3, 4, 0, 0, 0, 0, 1, 2, 4, 3, 4, 2, 4, 3, 2, 3, 3, 2,\n",
              "       3, 0, 2, 3, 0, 0, 0, 3, 1, 1, 4, 4, 1, 0, 0, 0, 1, 0, 4, 0, 1, 1,\n",
              "       2, 4, 0, 1, 4, 0, 3, 0, 3, 0, 1, 0, 3, 0, 2, 4, 2, 0, 4, 2, 4, 3,\n",
              "       2, 4, 3, 3, 3, 0, 0, 1, 2, 0, 3, 0, 2, 2, 4, 1, 0, 0, 0, 4, 2, 3,\n",
              "       2, 0, 1, 0, 4, 2, 4, 4, 1, 1, 0, 4, 0, 4, 1, 2, 0, 0, 3, 0, 2, 2,\n",
              "       3, 1, 0, 1, 1, 1, 0, 4, 3, 2, 0, 1, 0, 0, 2, 3, 0, 2, 3, 0, 3, 2,\n",
              "       1, 3, 2, 0, 0, 0, 2, 0, 2, 2, 4, 0, 4, 2, 0, 3, 3, 3, 4, 2, 0, 3,\n",
              "       1, 3, 1, 0, 4, 3, 0, 4, 1, 1, 4, 3, 3, 0, 4, 2, 3, 3, 3, 0, 2, 3,\n",
              "       0, 3, 4, 4, 2, 2, 3, 3, 0, 4, 0, 1, 2, 4, 3, 3, 4, 2, 4, 3, 4, 3,\n",
              "       4, 0, 1, 1, 1, 4, 0, 4, 2, 4, 1, 2, 4, 0, 3, 3, 1, 4, 1, 0, 1, 3,\n",
              "       3, 2, 3, 3, 4])"
            ]
          },
          "execution_count": 54,
          "metadata": {},
          "output_type": "execute_result"
        }
      ],
      "source": [
        "pred"
      ]
    },
    {
      "cell_type": "code",
      "execution_count": 55,
      "metadata": {
        "colab": {
          "base_uri": "https://localhost:8080/"
        },
        "id": "p2gPTQPGk0km",
        "outputId": "0f3b46e7-27c1-44aa-eb01-dd7f1b9c6ecc"
      },
      "outputs": [
        {
          "data": {
            "text/plain": [
              "array(['business', 'business', 'entertainment', 'business', 'politics',\n",
              "       'sport', 'politics', 'politics', 'sport', 'politics', 'politics',\n",
              "       'entertainment', 'sport', 'politics', 'entertainment', 'business',\n",
              "       'politics', 'tech', 'sport', 'entertainment', 'business', 'tech',\n",
              "       'sport', 'sport', 'tech', 'sport', 'entertainment', 'politics',\n",
              "       'tech', 'sport', 'politics', 'politics', 'business', 'sport',\n",
              "       'entertainment', 'sport', 'entertainment', 'tech', 'entertainment',\n",
              "       'sport', 'tech', 'politics', 'entertainment', 'sport', 'sport',\n",
              "       'entertainment', 'entertainment', 'business', 'entertainment',\n",
              "       'politics', 'business', 'politics', 'sport', 'business',\n",
              "       'entertainment', 'sport', 'sport', 'sport', 'business', 'tech',\n",
              "       'tech', 'business', 'tech', 'business', 'politics', 'tech',\n",
              "       'business', 'tech', 'entertainment', 'sport', 'business',\n",
              "       'politics', 'tech', 'tech', 'entertainment', 'business',\n",
              "       'business', 'politics', 'business', 'sport', 'business', 'tech',\n",
              "       'tech', 'business', 'politics', 'politics', 'tech', 'sport',\n",
              "       'tech', 'politics', 'business', 'tech', 'entertainment', 'sport',\n",
              "       'sport', 'sport', 'politics', 'politics', 'politics', 'business',\n",
              "       'entertainment', 'business', 'politics', 'tech', 'sport',\n",
              "       'entertainment', 'business', 'sport', 'sport', 'sport', 'business',\n",
              "       'politics', 'business', 'entertainment', 'politics', 'business',\n",
              "       'tech', 'business', 'entertainment', 'entertainment',\n",
              "       'entertainment', 'tech', 'tech', 'sport', 'sport', 'politics',\n",
              "       'politics', 'sport', 'tech', 'politics', 'sport', 'sport', 'tech',\n",
              "       'tech', 'entertainment', 'entertainment', 'entertainment', 'sport',\n",
              "       'tech', 'business', 'business', 'politics', 'business', 'sport',\n",
              "       'sport', 'entertainment', 'politics', 'tech', 'sport',\n",
              "       'entertainment', 'politics', 'politics', 'entertainment', 'sport',\n",
              "       'sport', 'sport', 'tech', 'sport', 'politics', 'sport', 'sport',\n",
              "       'sport', 'sport', 'sport', 'tech', 'business', 'entertainment',\n",
              "       'business', 'entertainment', 'business', 'politics',\n",
              "       'entertainment', 'tech', 'sport', 'sport', 'politics',\n",
              "       'entertainment', 'tech', 'tech', 'business', 'tech', 'sport',\n",
              "       'sport', 'entertainment', 'tech', 'sport', 'entertainment',\n",
              "       'business', 'politics', 'sport', 'tech', 'politics', 'sport',\n",
              "       'business', 'sport', 'entertainment', 'business', 'tech',\n",
              "       'entertainment', 'politics', 'politics', 'entertainment', 'sport',\n",
              "       'sport', 'sport', 'politics', 'business', 'politics', 'business',\n",
              "       'business', 'sport', 'entertainment', 'tech', 'entertainment',\n",
              "       'politics', 'entertainment', 'sport', 'sport', 'business', 'tech',\n",
              "       'business', 'sport', 'tech', 'tech', 'sport', 'tech', 'business',\n",
              "       'business', 'business', 'business', 'entertainment', 'politics',\n",
              "       'tech', 'sport', 'tech', 'politics', 'tech', 'sport', 'politics',\n",
              "       'sport', 'sport', 'politics', 'sport', 'business', 'politics',\n",
              "       'sport', 'business', 'business', 'business', 'sport',\n",
              "       'entertainment', 'entertainment', 'tech', 'tech', 'entertainment',\n",
              "       'business', 'business', 'business', 'entertainment', 'business',\n",
              "       'tech', 'business', 'entertainment', 'entertainment', 'politics',\n",
              "       'tech', 'business', 'entertainment', 'tech', 'business', 'sport',\n",
              "       'business', 'sport', 'business', 'entertainment', 'business',\n",
              "       'sport', 'business', 'politics', 'tech', 'politics', 'business',\n",
              "       'tech', 'politics', 'tech', 'sport', 'politics', 'tech', 'sport',\n",
              "       'sport', 'sport', 'business', 'business', 'entertainment',\n",
              "       'politics', 'business', 'sport', 'business', 'politics',\n",
              "       'politics', 'tech', 'entertainment', 'business', 'business',\n",
              "       'business', 'tech', 'politics', 'sport', 'politics', 'business',\n",
              "       'entertainment', 'business', 'tech', 'politics', 'tech', 'tech',\n",
              "       'entertainment', 'entertainment', 'business', 'tech', 'business',\n",
              "       'tech', 'entertainment', 'politics', 'business', 'business',\n",
              "       'sport', 'business', 'politics', 'politics', 'sport',\n",
              "       'entertainment', 'business', 'entertainment', 'entertainment',\n",
              "       'entertainment', 'business', 'tech', 'sport', 'politics',\n",
              "       'business', 'entertainment', 'business', 'business', 'politics',\n",
              "       'sport', 'business', 'politics', 'sport', 'business', 'sport',\n",
              "       'politics', 'entertainment', 'sport', 'politics', 'business',\n",
              "       'business', 'business', 'politics', 'business', 'politics',\n",
              "       'politics', 'tech', 'business', 'tech', 'politics', 'business',\n",
              "       'sport', 'sport', 'sport', 'tech', 'politics', 'business', 'sport',\n",
              "       'entertainment', 'sport', 'entertainment', 'business', 'tech',\n",
              "       'sport', 'business', 'tech', 'entertainment', 'entertainment',\n",
              "       'tech', 'sport', 'sport', 'business', 'tech', 'politics', 'sport',\n",
              "       'sport', 'sport', 'business', 'politics', 'sport', 'business',\n",
              "       'sport', 'tech', 'tech', 'politics', 'politics', 'sport', 'sport',\n",
              "       'business', 'tech', 'business', 'entertainment', 'politics',\n",
              "       'tech', 'sport', 'sport', 'tech', 'politics', 'tech', 'sport',\n",
              "       'tech', 'sport', 'tech', 'business', 'entertainment',\n",
              "       'entertainment', 'entertainment', 'tech', 'business', 'tech',\n",
              "       'politics', 'tech', 'entertainment', 'politics', 'tech',\n",
              "       'business', 'sport', 'sport', 'entertainment', 'tech',\n",
              "       'entertainment', 'business', 'entertainment', 'sport', 'sport',\n",
              "       'politics', 'sport', 'sport', 'tech'], dtype='<U13')"
            ]
          },
          "execution_count": 55,
          "metadata": {},
          "output_type": "execute_result"
        }
      ],
      "source": [
        "le.inverse_transform(pred)"
      ]
    },
    {
      "cell_type": "code",
      "execution_count": 56,
      "metadata": {
        "id": "4j2yfgX_lSKY"
      },
      "outputs": [],
      "source": []
    },
    {
      "cell_type": "code",
      "execution_count": 56,
      "metadata": {
        "id": "yfFtPwhLlyRZ"
      },
      "outputs": [],
      "source": []
    }
  ],
  "metadata": {
    "accelerator": "GPU",
    "colab": {
      "gpuType": "T4",
      "provenance": []
    },
    "kernelspec": {
      "display_name": "Python 3",
      "name": "python3"
    },
    "language_info": {
      "codemirror_mode": {
        "name": "ipython",
        "version": 3
      },
      "file_extension": ".py",
      "mimetype": "text/x-python",
      "name": "python",
      "nbconvert_exporter": "python",
      "pygments_lexer": "ipython3",
      "version": "3.10.11"
    }
  },
  "nbformat": 4,
  "nbformat_minor": 0
}
